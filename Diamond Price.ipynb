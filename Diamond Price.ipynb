{
 "cells": [
  {
   "cell_type": "markdown",
   "id": "43d56d84",
   "metadata": {
    "heading_collapsed": true
   },
   "source": [
    "# Import libraries"
   ]
  },
  {
   "cell_type": "code",
   "execution_count": null,
   "id": "476286a6",
   "metadata": {
    "hidden": true
   },
   "outputs": [],
   "source": []
  },
  {
   "cell_type": "code",
   "execution_count": 1,
   "id": "ebb80024",
   "metadata": {
    "ExecuteTime": {
     "end_time": "2022-09-27T11:07:55.956439Z",
     "start_time": "2022-09-27T11:07:54.389380Z"
    },
    "hidden": true
   },
   "outputs": [],
   "source": [
    "import numpy as np\n",
    "import pandas as pd\n",
    "import seaborn as sns\n",
    "import matplotlib.pyplot as plt\n",
    "from sklearn.linear_model import LinearRegression\n",
    "from sklearn.ensemble import GradientBoostingRegressor"
   ]
  },
  {
   "cell_type": "markdown",
   "id": "fe1f7b45",
   "metadata": {
    "heading_collapsed": true
   },
   "source": [
    "# Funções"
   ]
  },
  {
   "cell_type": "code",
   "execution_count": 2,
   "id": "d7a93fb7",
   "metadata": {
    "ExecuteTime": {
     "end_time": "2022-09-27T11:07:55.972399Z",
     "start_time": "2022-09-27T11:07:55.957439Z"
    },
    "hidden": true
   },
   "outputs": [],
   "source": [
    "def cria_modelos(df, df_pred, x_test, y_test):\n",
    "    '''\n",
    "    Função que cria modelos para a previsão\n",
    "    '''\n",
    "    X = df[x_test]\n",
    "    y = df[y_test]\n",
    "\n",
    "    model = GradientBoostingRegressor()\n",
    "    model.fit(X,y)\n",
    "    \n",
    "    price_pred = model.predict(df_pred[x_test])\n",
    "    \n",
    "    return price_pred"
   ]
  },
  {
   "cell_type": "markdown",
   "id": "3c026458",
   "metadata": {
    "heading_collapsed": true
   },
   "source": [
    "# Read dataset"
   ]
  },
  {
   "cell_type": "code",
   "execution_count": 3,
   "id": "d0d1536a",
   "metadata": {
    "ExecuteTime": {
     "end_time": "2022-09-27T11:07:56.049223Z",
     "start_time": "2022-09-27T11:07:55.974422Z"
    },
    "hidden": true
   },
   "outputs": [
    {
     "data": {
      "text/html": [
       "<div>\n",
       "<style scoped>\n",
       "    .dataframe tbody tr th:only-of-type {\n",
       "        vertical-align: middle;\n",
       "    }\n",
       "\n",
       "    .dataframe tbody tr th {\n",
       "        vertical-align: top;\n",
       "    }\n",
       "\n",
       "    .dataframe thead th {\n",
       "        text-align: right;\n",
       "    }\n",
       "</style>\n",
       "<table border=\"1\" class=\"dataframe\">\n",
       "  <thead>\n",
       "    <tr style=\"text-align: right;\">\n",
       "      <th></th>\n",
       "      <th>carat</th>\n",
       "      <th>cut</th>\n",
       "      <th>color</th>\n",
       "      <th>clarity</th>\n",
       "      <th>depth</th>\n",
       "      <th>table</th>\n",
       "      <th>price</th>\n",
       "      <th>x</th>\n",
       "      <th>y</th>\n",
       "      <th>z</th>\n",
       "    </tr>\n",
       "  </thead>\n",
       "  <tbody>\n",
       "    <tr>\n",
       "      <th>0</th>\n",
       "      <td>0.21</td>\n",
       "      <td>Premium</td>\n",
       "      <td>E</td>\n",
       "      <td>SI1</td>\n",
       "      <td>59.8</td>\n",
       "      <td>61.0</td>\n",
       "      <td>326</td>\n",
       "      <td>3.89</td>\n",
       "      <td>3.84</td>\n",
       "      <td>2.31</td>\n",
       "    </tr>\n",
       "    <tr>\n",
       "      <th>1</th>\n",
       "      <td>0.23</td>\n",
       "      <td>Good</td>\n",
       "      <td>E</td>\n",
       "      <td>VS1</td>\n",
       "      <td>56.9</td>\n",
       "      <td>65.0</td>\n",
       "      <td>327</td>\n",
       "      <td>4.05</td>\n",
       "      <td>4.07</td>\n",
       "      <td>2.31</td>\n",
       "    </tr>\n",
       "    <tr>\n",
       "      <th>2</th>\n",
       "      <td>0.29</td>\n",
       "      <td>Premium</td>\n",
       "      <td>I</td>\n",
       "      <td>VS2</td>\n",
       "      <td>62.4</td>\n",
       "      <td>58.0</td>\n",
       "      <td>334</td>\n",
       "      <td>4.20</td>\n",
       "      <td>4.23</td>\n",
       "      <td>2.63</td>\n",
       "    </tr>\n",
       "    <tr>\n",
       "      <th>3</th>\n",
       "      <td>0.31</td>\n",
       "      <td>Good</td>\n",
       "      <td>J</td>\n",
       "      <td>SI2</td>\n",
       "      <td>63.3</td>\n",
       "      <td>58.0</td>\n",
       "      <td>335</td>\n",
       "      <td>4.34</td>\n",
       "      <td>4.35</td>\n",
       "      <td>2.75</td>\n",
       "    </tr>\n",
       "    <tr>\n",
       "      <th>4</th>\n",
       "      <td>0.24</td>\n",
       "      <td>Very Good</td>\n",
       "      <td>J</td>\n",
       "      <td>VVS2</td>\n",
       "      <td>62.8</td>\n",
       "      <td>57.0</td>\n",
       "      <td>336</td>\n",
       "      <td>3.94</td>\n",
       "      <td>3.96</td>\n",
       "      <td>2.48</td>\n",
       "    </tr>\n",
       "    <tr>\n",
       "      <th>...</th>\n",
       "      <td>...</td>\n",
       "      <td>...</td>\n",
       "      <td>...</td>\n",
       "      <td>...</td>\n",
       "      <td>...</td>\n",
       "      <td>...</td>\n",
       "      <td>...</td>\n",
       "      <td>...</td>\n",
       "      <td>...</td>\n",
       "      <td>...</td>\n",
       "    </tr>\n",
       "    <tr>\n",
       "      <th>48935</th>\n",
       "      <td>0.72</td>\n",
       "      <td>Premium</td>\n",
       "      <td>D</td>\n",
       "      <td>SI1</td>\n",
       "      <td>62.7</td>\n",
       "      <td>59.0</td>\n",
       "      <td>2757</td>\n",
       "      <td>5.69</td>\n",
       "      <td>5.73</td>\n",
       "      <td>3.58</td>\n",
       "    </tr>\n",
       "    <tr>\n",
       "      <th>48936</th>\n",
       "      <td>0.72</td>\n",
       "      <td>Ideal</td>\n",
       "      <td>D</td>\n",
       "      <td>SI1</td>\n",
       "      <td>60.8</td>\n",
       "      <td>57.0</td>\n",
       "      <td>2757</td>\n",
       "      <td>5.75</td>\n",
       "      <td>5.76</td>\n",
       "      <td>3.50</td>\n",
       "    </tr>\n",
       "    <tr>\n",
       "      <th>48937</th>\n",
       "      <td>0.72</td>\n",
       "      <td>Good</td>\n",
       "      <td>D</td>\n",
       "      <td>SI1</td>\n",
       "      <td>63.1</td>\n",
       "      <td>55.0</td>\n",
       "      <td>2757</td>\n",
       "      <td>5.69</td>\n",
       "      <td>5.75</td>\n",
       "      <td>3.61</td>\n",
       "    </tr>\n",
       "    <tr>\n",
       "      <th>48938</th>\n",
       "      <td>0.70</td>\n",
       "      <td>Very Good</td>\n",
       "      <td>D</td>\n",
       "      <td>SI1</td>\n",
       "      <td>62.8</td>\n",
       "      <td>60.0</td>\n",
       "      <td>2757</td>\n",
       "      <td>5.66</td>\n",
       "      <td>5.68</td>\n",
       "      <td>3.56</td>\n",
       "    </tr>\n",
       "    <tr>\n",
       "      <th>48939</th>\n",
       "      <td>0.75</td>\n",
       "      <td>Ideal</td>\n",
       "      <td>D</td>\n",
       "      <td>SI2</td>\n",
       "      <td>62.2</td>\n",
       "      <td>55.0</td>\n",
       "      <td>2757</td>\n",
       "      <td>5.83</td>\n",
       "      <td>5.87</td>\n",
       "      <td>3.64</td>\n",
       "    </tr>\n",
       "  </tbody>\n",
       "</table>\n",
       "<p>48940 rows × 10 columns</p>\n",
       "</div>"
      ],
      "text/plain": [
       "       carat        cut color clarity  depth  table  price     x     y     z\n",
       "0       0.21    Premium     E     SI1   59.8   61.0    326  3.89  3.84  2.31\n",
       "1       0.23       Good     E     VS1   56.9   65.0    327  4.05  4.07  2.31\n",
       "2       0.29    Premium     I     VS2   62.4   58.0    334  4.20  4.23  2.63\n",
       "3       0.31       Good     J     SI2   63.3   58.0    335  4.34  4.35  2.75\n",
       "4       0.24  Very Good     J    VVS2   62.8   57.0    336  3.94  3.96  2.48\n",
       "...      ...        ...   ...     ...    ...    ...    ...   ...   ...   ...\n",
       "48935   0.72    Premium     D     SI1   62.7   59.0   2757  5.69  5.73  3.58\n",
       "48936   0.72      Ideal     D     SI1   60.8   57.0   2757  5.75  5.76  3.50\n",
       "48937   0.72       Good     D     SI1   63.1   55.0   2757  5.69  5.75  3.61\n",
       "48938   0.70  Very Good     D     SI1   62.8   60.0   2757  5.66  5.68  3.56\n",
       "48939   0.75      Ideal     D     SI2   62.2   55.0   2757  5.83  5.87  3.64\n",
       "\n",
       "[48940 rows x 10 columns]"
      ]
     },
     "execution_count": 3,
     "metadata": {},
     "output_type": "execute_result"
    }
   ],
   "source": [
    "diamonds_test = pd.read_csv('data/diamonds.csv')\n",
    "diamonds_rick = pd.read_csv('data/rick_diamonds.csv')\n",
    "diamonds_test"
   ]
  },
  {
   "cell_type": "markdown",
   "id": "9652d585",
   "metadata": {
    "heading_collapsed": true
   },
   "source": [
    "# Data Cleaning "
   ]
  },
  {
   "cell_type": "code",
   "execution_count": 4,
   "id": "c7b12dcd",
   "metadata": {
    "ExecuteTime": {
     "end_time": "2022-09-27T11:07:56.065182Z",
     "start_time": "2022-09-27T11:07:56.050221Z"
    },
    "hidden": true
   },
   "outputs": [],
   "source": [
    "# removendo as colunas de x,y,z que estiverem todas zeradas\n",
    "diamonds_test = diamonds_test[~((diamonds_test['x'] == 0) & (diamonds_test['y'] == 0) & (diamonds_test['z'] == 0))]"
   ]
  },
  {
   "cell_type": "code",
   "execution_count": 5,
   "id": "cc3d4df0",
   "metadata": {
    "ExecuteTime": {
     "end_time": "2022-09-27T11:07:56.080141Z",
     "start_time": "2022-09-27T11:07:56.066179Z"
    },
    "hidden": true
   },
   "outputs": [],
   "source": [
    "# remoção das colunas com x =0, como todas nessas colunas y ou z também era =0\n",
    "diamonds_test = diamonds_test[~(diamonds_test['x'] == 0)]"
   ]
  },
  {
   "cell_type": "code",
   "execution_count": 6,
   "id": "50053a31",
   "metadata": {
    "ExecuteTime": {
     "end_time": "2022-09-27T11:07:56.096099Z",
     "start_time": "2022-09-27T11:07:56.081139Z"
    },
    "hidden": true
   },
   "outputs": [
    {
     "data": {
      "text/html": [
       "<div>\n",
       "<style scoped>\n",
       "    .dataframe tbody tr th:only-of-type {\n",
       "        vertical-align: middle;\n",
       "    }\n",
       "\n",
       "    .dataframe tbody tr th {\n",
       "        vertical-align: top;\n",
       "    }\n",
       "\n",
       "    .dataframe thead th {\n",
       "        text-align: right;\n",
       "    }\n",
       "</style>\n",
       "<table border=\"1\" class=\"dataframe\">\n",
       "  <thead>\n",
       "    <tr style=\"text-align: right;\">\n",
       "      <th></th>\n",
       "      <th>carat</th>\n",
       "      <th>cut</th>\n",
       "      <th>color</th>\n",
       "      <th>clarity</th>\n",
       "      <th>depth</th>\n",
       "      <th>table</th>\n",
       "      <th>price</th>\n",
       "      <th>x</th>\n",
       "      <th>y</th>\n",
       "      <th>z</th>\n",
       "    </tr>\n",
       "  </thead>\n",
       "  <tbody>\n",
       "  </tbody>\n",
       "</table>\n",
       "</div>"
      ],
      "text/plain": [
       "Empty DataFrame\n",
       "Columns: [carat, cut, color, clarity, depth, table, price, x, y, z]\n",
       "Index: []"
      ]
     },
     "execution_count": 6,
     "metadata": {},
     "output_type": "execute_result"
    }
   ],
   "source": [
    "# não havia colunas y = 0, logo remoção desnecessária\n",
    "diamonds_test[diamonds_test['y'] == 0]"
   ]
  },
  {
   "cell_type": "code",
   "execution_count": 7,
   "id": "57bb1a76",
   "metadata": {
    "ExecuteTime": {
     "end_time": "2022-09-27T11:07:56.111058Z",
     "start_time": "2022-09-27T11:07:56.097097Z"
    },
    "hidden": true
   },
   "outputs": [],
   "source": [
    "# completando as informações perdidas quando o z = 0\n",
    "diamonds_test.loc[diamonds_test['z']==0 ,'z'] = (diamonds_test['depth']*(diamonds_test['x']+diamonds_test['y']))/2"
   ]
  },
  {
   "cell_type": "code",
   "execution_count": 8,
   "id": "36426d00",
   "metadata": {
    "ExecuteTime": {
     "end_time": "2022-09-27T11:07:56.127015Z",
     "start_time": "2022-09-27T11:07:56.112056Z"
    },
    "hidden": true
   },
   "outputs": [
    {
     "data": {
      "text/html": [
       "<div>\n",
       "<style scoped>\n",
       "    .dataframe tbody tr th:only-of-type {\n",
       "        vertical-align: middle;\n",
       "    }\n",
       "\n",
       "    .dataframe tbody tr th {\n",
       "        vertical-align: top;\n",
       "    }\n",
       "\n",
       "    .dataframe thead th {\n",
       "        text-align: right;\n",
       "    }\n",
       "</style>\n",
       "<table border=\"1\" class=\"dataframe\">\n",
       "  <thead>\n",
       "    <tr style=\"text-align: right;\">\n",
       "      <th></th>\n",
       "      <th>carat</th>\n",
       "      <th>cut</th>\n",
       "      <th>color</th>\n",
       "      <th>clarity</th>\n",
       "      <th>depth</th>\n",
       "      <th>table</th>\n",
       "      <th>price</th>\n",
       "      <th>x</th>\n",
       "      <th>y</th>\n",
       "      <th>z</th>\n",
       "    </tr>\n",
       "  </thead>\n",
       "  <tbody>\n",
       "  </tbody>\n",
       "</table>\n",
       "</div>"
      ],
      "text/plain": [
       "Empty DataFrame\n",
       "Columns: [carat, cut, color, clarity, depth, table, price, x, y, z]\n",
       "Index: []"
      ]
     },
     "execution_count": 8,
     "metadata": {},
     "output_type": "execute_result"
    }
   ],
   "source": [
    "# buscando valores faltando em outras colunas\n",
    "diamonds_test[diamonds_test['price'] == 0]"
   ]
  },
  {
   "cell_type": "code",
   "execution_count": 9,
   "id": "566fe3bd",
   "metadata": {
    "ExecuteTime": {
     "end_time": "2022-09-27T11:07:56.142973Z",
     "start_time": "2022-09-27T11:07:56.129010Z"
    },
    "hidden": true
   },
   "outputs": [
    {
     "data": {
      "text/html": [
       "<div>\n",
       "<style scoped>\n",
       "    .dataframe tbody tr th:only-of-type {\n",
       "        vertical-align: middle;\n",
       "    }\n",
       "\n",
       "    .dataframe tbody tr th {\n",
       "        vertical-align: top;\n",
       "    }\n",
       "\n",
       "    .dataframe thead th {\n",
       "        text-align: right;\n",
       "    }\n",
       "</style>\n",
       "<table border=\"1\" class=\"dataframe\">\n",
       "  <thead>\n",
       "    <tr style=\"text-align: right;\">\n",
       "      <th></th>\n",
       "      <th>carat</th>\n",
       "      <th>cut</th>\n",
       "      <th>color</th>\n",
       "      <th>clarity</th>\n",
       "      <th>depth</th>\n",
       "      <th>table</th>\n",
       "      <th>price</th>\n",
       "      <th>x</th>\n",
       "      <th>y</th>\n",
       "      <th>z</th>\n",
       "    </tr>\n",
       "  </thead>\n",
       "  <tbody>\n",
       "  </tbody>\n",
       "</table>\n",
       "</div>"
      ],
      "text/plain": [
       "Empty DataFrame\n",
       "Columns: [carat, cut, color, clarity, depth, table, price, x, y, z]\n",
       "Index: []"
      ]
     },
     "execution_count": 9,
     "metadata": {},
     "output_type": "execute_result"
    }
   ],
   "source": [
    "diamonds_test[diamonds_test['table'] == 0]"
   ]
  },
  {
   "cell_type": "code",
   "execution_count": 10,
   "id": "0297b0c2",
   "metadata": {
    "ExecuteTime": {
     "end_time": "2022-09-27T11:07:56.158931Z",
     "start_time": "2022-09-27T11:07:56.143971Z"
    },
    "hidden": true
   },
   "outputs": [
    {
     "data": {
      "text/plain": [
       "array(['SI1', 'VS1', 'VS2', 'SI2', 'VVS2', 'VVS1', 'I1', 'IF'],\n",
       "      dtype=object)"
      ]
     },
     "execution_count": 10,
     "metadata": {},
     "output_type": "execute_result"
    }
   ],
   "source": [
    "diamonds_test['clarity'].unique()"
   ]
  },
  {
   "cell_type": "code",
   "execution_count": 11,
   "id": "f64b9575",
   "metadata": {
    "ExecuteTime": {
     "end_time": "2022-09-27T11:07:56.174887Z",
     "start_time": "2022-09-27T11:07:56.159928Z"
    },
    "hidden": true
   },
   "outputs": [
    {
     "data": {
      "text/plain": [
       "array(['E', 'I', 'J', 'H', 'F', 'G', 'D'], dtype=object)"
      ]
     },
     "execution_count": 11,
     "metadata": {},
     "output_type": "execute_result"
    }
   ],
   "source": [
    "diamonds_test['color'].unique()"
   ]
  },
  {
   "cell_type": "code",
   "execution_count": 12,
   "id": "e41ed8f7",
   "metadata": {
    "ExecuteTime": {
     "end_time": "2022-09-27T11:07:56.190845Z",
     "start_time": "2022-09-27T11:07:56.175885Z"
    },
    "hidden": true
   },
   "outputs": [
    {
     "data": {
      "text/plain": [
       "array(['Premium', 'Good', 'Very Good', 'Ideal', 'Fair'], dtype=object)"
      ]
     },
     "execution_count": 12,
     "metadata": {},
     "output_type": "execute_result"
    }
   ],
   "source": [
    "diamonds_test['cut'].unique()"
   ]
  },
  {
   "cell_type": "markdown",
   "id": "8a8eb325",
   "metadata": {
    "heading_collapsed": true
   },
   "source": [
    "# Exploratory Analysis"
   ]
  },
  {
   "cell_type": "code",
   "execution_count": 13,
   "id": "99e71210",
   "metadata": {
    "ExecuteTime": {
     "end_time": "2022-09-27T11:07:56.206803Z",
     "start_time": "2022-09-27T11:07:56.192840Z"
    },
    "hidden": true
   },
   "outputs": [
    {
     "data": {
      "text/plain": [
       "carat    0.922207\n",
       "depth   -0.012077\n",
       "table    0.127854\n",
       "price    1.000000\n",
       "x        0.887904\n",
       "y        0.866568\n",
       "z        0.112812\n",
       "Name: price, dtype: float64"
      ]
     },
     "execution_count": 13,
     "metadata": {},
     "output_type": "execute_result"
    }
   ],
   "source": [
    "# identificando as correlações\n",
    "diamonds_test.corr()['price']\n",
    "#outras explorações foram feitas no tableau"
   ]
  },
  {
   "cell_type": "markdown",
   "id": "9ff14a87",
   "metadata": {
    "heading_collapsed": true
   },
   "source": [
    "# Data transformation"
   ]
  },
  {
   "cell_type": "code",
   "execution_count": 14,
   "id": "1abf4962",
   "metadata": {
    "ExecuteTime": {
     "end_time": "2022-09-27T11:07:56.656630Z",
     "start_time": "2022-09-27T11:07:56.207800Z"
    },
    "hidden": true
   },
   "outputs": [
    {
     "data": {
      "text/html": [
       "<div>\n",
       "<style scoped>\n",
       "    .dataframe tbody tr th:only-of-type {\n",
       "        vertical-align: middle;\n",
       "    }\n",
       "\n",
       "    .dataframe tbody tr th {\n",
       "        vertical-align: top;\n",
       "    }\n",
       "\n",
       "    .dataframe thead th {\n",
       "        text-align: right;\n",
       "    }\n",
       "</style>\n",
       "<table border=\"1\" class=\"dataframe\">\n",
       "  <thead>\n",
       "    <tr style=\"text-align: right;\">\n",
       "      <th></th>\n",
       "      <th>carat</th>\n",
       "      <th>cut</th>\n",
       "      <th>depth</th>\n",
       "      <th>x</th>\n",
       "      <th>y</th>\n",
       "      <th>z</th>\n",
       "      <th>table</th>\n",
       "    </tr>\n",
       "  </thead>\n",
       "  <tbody>\n",
       "    <tr>\n",
       "      <th>0</th>\n",
       "      <td>0.281033</td>\n",
       "      <td>0.602060</td>\n",
       "      <td>1.808886</td>\n",
       "      <td>0.851258</td>\n",
       "      <td>0.856124</td>\n",
       "      <td>0.689309</td>\n",
       "      <td>1.763428</td>\n",
       "    </tr>\n",
       "    <tr>\n",
       "      <th>1</th>\n",
       "      <td>0.139879</td>\n",
       "      <td>0.477121</td>\n",
       "      <td>1.787460</td>\n",
       "      <td>0.754348</td>\n",
       "      <td>0.756636</td>\n",
       "      <td>0.583199</td>\n",
       "      <td>1.792392</td>\n",
       "    </tr>\n",
       "    <tr>\n",
       "      <th>2</th>\n",
       "      <td>0.181844</td>\n",
       "      <td>0.778151</td>\n",
       "      <td>1.797960</td>\n",
       "      <td>0.791691</td>\n",
       "      <td>0.789581</td>\n",
       "      <td>0.623249</td>\n",
       "      <td>1.755875</td>\n",
       "    </tr>\n",
       "    <tr>\n",
       "      <th>3</th>\n",
       "      <td>0.322219</td>\n",
       "      <td>0.778151</td>\n",
       "      <td>1.794488</td>\n",
       "      <td>0.883661</td>\n",
       "      <td>0.885926</td>\n",
       "      <td>0.706718</td>\n",
       "      <td>1.755875</td>\n",
       "    </tr>\n",
       "    <tr>\n",
       "      <th>4</th>\n",
       "      <td>0.515874</td>\n",
       "      <td>0.778151</td>\n",
       "      <td>1.796574</td>\n",
       "      <td>0.974972</td>\n",
       "      <td>0.971740</td>\n",
       "      <td>0.790988</td>\n",
       "      <td>1.763428</td>\n",
       "    </tr>\n",
       "    <tr>\n",
       "      <th>...</th>\n",
       "      <td>...</td>\n",
       "      <td>...</td>\n",
       "      <td>...</td>\n",
       "      <td>...</td>\n",
       "      <td>...</td>\n",
       "      <td>...</td>\n",
       "      <td>...</td>\n",
       "    </tr>\n",
       "    <tr>\n",
       "      <th>4995</th>\n",
       "      <td>0.113943</td>\n",
       "      <td>0.602060</td>\n",
       "      <td>1.800717</td>\n",
       "      <td>0.720159</td>\n",
       "      <td>0.724276</td>\n",
       "      <td>0.563481</td>\n",
       "      <td>1.778151</td>\n",
       "    </tr>\n",
       "    <tr>\n",
       "      <th>4996</th>\n",
       "      <td>0.178977</td>\n",
       "      <td>0.778151</td>\n",
       "      <td>1.798651</td>\n",
       "      <td>0.784617</td>\n",
       "      <td>0.788168</td>\n",
       "      <td>0.619093</td>\n",
       "      <td>1.755875</td>\n",
       "    </tr>\n",
       "    <tr>\n",
       "      <th>4997</th>\n",
       "      <td>0.303196</td>\n",
       "      <td>0.602060</td>\n",
       "      <td>1.789581</td>\n",
       "      <td>0.867467</td>\n",
       "      <td>0.870989</td>\n",
       "      <td>0.688420</td>\n",
       "      <td>1.785330</td>\n",
       "    </tr>\n",
       "    <tr>\n",
       "      <th>4998</th>\n",
       "      <td>0.117271</td>\n",
       "      <td>0.778151</td>\n",
       "      <td>1.800029</td>\n",
       "      <td>0.728354</td>\n",
       "      <td>0.730782</td>\n",
       "      <td>0.569374</td>\n",
       "      <td>1.755875</td>\n",
       "    </tr>\n",
       "    <tr>\n",
       "      <th>4999</th>\n",
       "      <td>0.123852</td>\n",
       "      <td>0.778151</td>\n",
       "      <td>1.797960</td>\n",
       "      <td>0.736397</td>\n",
       "      <td>0.738781</td>\n",
       "      <td>0.575188</td>\n",
       "      <td>1.748188</td>\n",
       "    </tr>\n",
       "  </tbody>\n",
       "</table>\n",
       "<p>5000 rows × 7 columns</p>\n",
       "</div>"
      ],
      "text/plain": [
       "         carat       cut     depth         x         y         z     table\n",
       "0     0.281033  0.602060  1.808886  0.851258  0.856124  0.689309  1.763428\n",
       "1     0.139879  0.477121  1.787460  0.754348  0.756636  0.583199  1.792392\n",
       "2     0.181844  0.778151  1.797960  0.791691  0.789581  0.623249  1.755875\n",
       "3     0.322219  0.778151  1.794488  0.883661  0.885926  0.706718  1.755875\n",
       "4     0.515874  0.778151  1.796574  0.974972  0.971740  0.790988  1.763428\n",
       "...        ...       ...       ...       ...       ...       ...       ...\n",
       "4995  0.113943  0.602060  1.800717  0.720159  0.724276  0.563481  1.778151\n",
       "4996  0.178977  0.778151  1.798651  0.784617  0.788168  0.619093  1.755875\n",
       "4997  0.303196  0.602060  1.789581  0.867467  0.870989  0.688420  1.785330\n",
       "4998  0.117271  0.778151  1.800029  0.728354  0.730782  0.569374  1.755875\n",
       "4999  0.123852  0.778151  1.797960  0.736397  0.738781  0.575188  1.748188\n",
       "\n",
       "[5000 rows x 7 columns]"
      ]
     },
     "execution_count": 14,
     "metadata": {},
     "output_type": "execute_result"
    }
   ],
   "source": [
    "diamonds_test.loc[diamonds_test['cut'] == 'Fair', 'cut'] = 1\n",
    "diamonds_test.loc[diamonds_test['cut'] == 'Good', 'cut'] = 2\n",
    "diamonds_test.loc[diamonds_test['cut'] == 'Very Good', 'cut'] = 3\n",
    "diamonds_test.loc[diamonds_test['cut'] == 'Premium', 'cut'] = 4\n",
    "diamonds_test.loc[diamonds_test['cut'] == 'Ideal', 'cut'] = 5\n",
    "\n",
    "diamonds_rick.loc[diamonds_rick['cut'] == 'Fair', 'cut'] = 1\n",
    "diamonds_rick.loc[diamonds_rick['cut'] == 'Good', 'cut'] = 2\n",
    "diamonds_rick.loc[diamonds_rick['cut'] == 'Very Good', 'cut'] = 3\n",
    "diamonds_rick.loc[diamonds_rick['cut'] == 'Premium', 'cut'] = 4\n",
    "diamonds_rick.loc[diamonds_rick['cut'] == 'Ideal', 'cut'] = 5\n",
    "\n",
    "#transformação dos dados para a melhor previsão do modelo\n",
    "diamonds_test[['carat', 'cut','depth','x','y','z','table','price']].applymap(lambda x: np.log10(x + 1))\n",
    "diamonds_rick[['carat', 'cut','depth','x','y','z','table']].applymap(lambda x: np.log10(x + 1))"
   ]
  },
  {
   "cell_type": "markdown",
   "id": "a2700613",
   "metadata": {
    "heading_collapsed": true
   },
   "source": [
    "# Modeling"
   ]
  },
  {
   "cell_type": "code",
   "execution_count": 15,
   "id": "632c267c",
   "metadata": {
    "ExecuteTime": {
     "end_time": "2022-09-27T11:07:56.672615Z",
     "start_time": "2022-09-27T11:07:56.657628Z"
    },
    "hidden": true
   },
   "outputs": [],
   "source": [
    "#Criando a Coluna price_predicted no dataframe\n",
    "diamonds_rick['price_predicted'] = 0 "
   ]
  },
  {
   "cell_type": "code",
   "execution_count": 16,
   "id": "c82162c7",
   "metadata": {
    "ExecuteTime": {
     "end_time": "2022-09-27T11:07:56.734450Z",
     "start_time": "2022-09-27T11:07:56.673613Z"
    },
    "hidden": true
   },
   "outputs": [],
   "source": [
    "#Maks para as modelagens\n",
    "\n",
    "#Maks de Clarity\n",
    "# df de testes\n",
    "teste_if = diamonds_test['clarity'] == 'IF'\n",
    "teste_vvs1 = diamonds_test['clarity'] == 'VVS1'\n",
    "teste_vvs2 = diamonds_test['clarity'] == 'VVS2'\n",
    "teste_vs1 = diamonds_test['clarity'] == 'VS1'\n",
    "teste_vs2 = diamonds_test['clarity'] == 'VS2'\n",
    "teste_si1 = diamonds_test['clarity'] == 'SI1'\n",
    "teste_si2 = diamonds_test['clarity'] == 'SI2'\n",
    "teste_i1 = diamonds_test['clarity'] == 'I1'\n",
    "\n",
    "# df do rick\n",
    "rick_if = diamonds_rick['clarity'] == 'IF'\n",
    "rick_vvs1 = diamonds_rick['clarity'] == 'VVS1'\n",
    "rick_vvs2 = diamonds_rick['clarity'] == 'VVS2'\n",
    "rick_vs1 = diamonds_rick['clarity'] == 'VS1'\n",
    "rick_vs2 = diamonds_rick['clarity'] == 'VS2'\n",
    "rick_si1 = diamonds_rick['clarity'] == 'SI1'\n",
    "rick_si2 = diamonds_rick['clarity'] == 'SI2'\n",
    "rick_i1 = diamonds_rick['clarity'] == 'I1'\n",
    "\n",
    "#Masks de Color\n",
    "#df de testes\n",
    "teste_d = diamonds_test['color'] == 'D'\n",
    "teste_e = diamonds_test['color'] == 'E'\n",
    "teste_f = diamonds_test['color'] == 'F'\n",
    "teste_g = diamonds_test['color'] == 'G'\n",
    "teste_h = diamonds_test['color'] == 'H'\n",
    "teste_i = diamonds_test['color'] == 'I'\n",
    "teste_j = diamonds_test['color'] == 'J'\n",
    "#df do rick\n",
    "rick_d = diamonds_rick['color'] == 'D'\n",
    "rick_e = diamonds_rick['color'] == 'E'\n",
    "rick_f = diamonds_rick['color'] == 'F'\n",
    "rick_g = diamonds_rick['color'] == 'G'\n",
    "rick_h = diamonds_rick['color'] == 'H'\n",
    "rick_i = diamonds_rick['color'] == 'I'\n",
    "rick_j = diamonds_rick['color'] == 'J'"
   ]
  },
  {
   "cell_type": "code",
   "execution_count": 17,
   "id": "cb8d1bf6",
   "metadata": {
    "ExecuteTime": {
     "end_time": "2022-09-27T11:07:56.749194Z",
     "start_time": "2022-09-27T11:07:56.735447Z"
    },
    "hidden": true
   },
   "outputs": [],
   "source": [
    "#listas clarity mask\n",
    "teste_clarity_list = [\n",
    "    teste_if, teste_vvs1, teste_vvs2, teste_vs1, teste_vs2, teste_si1,\n",
    "    teste_si2, teste_i1\n",
    "]\n",
    "\n",
    "rick_clarity_list = [\n",
    "    rick_if, rick_vvs1, rick_vvs2, rick_vs1, rick_vs2, rick_si1, rick_si2,\n",
    "    rick_i1\n",
    "]\n",
    "#listas color mask\n",
    "teste_color_list = [\n",
    "    teste_d, teste_e, teste_f, teste_g, teste_h, teste_i, teste_j\n",
    "]\n",
    "\n",
    "rick_color_list = [rick_d, rick_e, rick_f, rick_g, rick_h, rick_i, rick_j]"
   ]
  },
  {
   "cell_type": "code",
   "execution_count": 18,
   "id": "8f411508",
   "metadata": {
    "ExecuteTime": {
     "end_time": "2022-09-27T11:08:01.715785Z",
     "start_time": "2022-09-27T11:07:56.750472Z"
    },
    "hidden": true
   },
   "outputs": [],
   "source": [
    "#Loop para criar todas as combinações de modelos \n",
    "for clarity in list(zip(teste_clarity_list, rick_clarity_list)):\n",
    "    for color in list(zip(teste_color_list, rick_color_list)):\n",
    "        diamonds_rick.loc[clarity[1] & color[1],\n",
    "                          'price_predicted'] = cria_modelos(\n",
    "                              diamonds_test[clarity[0] & color[0]],\n",
    "                              diamonds_rick[clarity[1] & color[1]],\n",
    "                              ['carat', 'cut','depth','x','y','z','table'], 'price')"
   ]
  },
  {
   "cell_type": "markdown",
   "id": "b2d6863b",
   "metadata": {
    "heading_collapsed": true
   },
   "source": [
    "# To CSV"
   ]
  },
  {
   "cell_type": "code",
   "execution_count": 19,
   "id": "a20fe923",
   "metadata": {
    "ExecuteTime": {
     "end_time": "2022-09-27T11:08:03.835880Z",
     "start_time": "2022-09-27T11:08:01.716753Z"
    },
    "hidden": true
   },
   "outputs": [
    {
     "name": "stderr",
     "output_type": "stream",
     "text": [
      "C:\\Users\\guilh\\AppData\\Local\\Temp\\ipykernel_13788\\3685250210.py:1: RuntimeWarning: overflow encountered in exp\n",
      "  diamonds_test[['carat', 'cut','depth','x','y','z','table','price']].applymap(lambda x: round(np.exp(x),ndigits=2))\n",
      "C:\\Users\\guilh\\AppData\\Local\\Temp\\ipykernel_13788\\3685250210.py:1: RuntimeWarning: overflow encountered in multiply\n",
      "  diamonds_test[['carat', 'cut','depth','x','y','z','table','price']].applymap(lambda x: round(np.exp(x),ndigits=2))\n",
      "C:\\Users\\guilh\\AppData\\Local\\Temp\\ipykernel_13788\\3685250210.py:2: RuntimeWarning: overflow encountered in exp\n",
      "  diamonds_rick[['carat', 'cut','depth','x','y','z','table', 'price_predicted']].applymap(lambda x: round(np.exp(x),ndigits=2))\n",
      "C:\\Users\\guilh\\AppData\\Local\\Temp\\ipykernel_13788\\3685250210.py:2: RuntimeWarning: overflow encountered in multiply\n",
      "  diamonds_rick[['carat', 'cut','depth','x','y','z','table', 'price_predicted']].applymap(lambda x: round(np.exp(x),ndigits=2))\n"
     ]
    },
    {
     "data": {
      "text/html": [
       "<div>\n",
       "<style scoped>\n",
       "    .dataframe tbody tr th:only-of-type {\n",
       "        vertical-align: middle;\n",
       "    }\n",
       "\n",
       "    .dataframe tbody tr th {\n",
       "        vertical-align: top;\n",
       "    }\n",
       "\n",
       "    .dataframe thead th {\n",
       "        text-align: right;\n",
       "    }\n",
       "</style>\n",
       "<table border=\"1\" class=\"dataframe\">\n",
       "  <thead>\n",
       "    <tr style=\"text-align: right;\">\n",
       "      <th></th>\n",
       "      <th>carat</th>\n",
       "      <th>cut</th>\n",
       "      <th>color</th>\n",
       "      <th>clarity</th>\n",
       "      <th>depth</th>\n",
       "      <th>table</th>\n",
       "      <th>x</th>\n",
       "      <th>y</th>\n",
       "      <th>z</th>\n",
       "      <th>price_predicted</th>\n",
       "    </tr>\n",
       "  </thead>\n",
       "  <tbody>\n",
       "    <tr>\n",
       "      <th>0</th>\n",
       "      <td>0.91</td>\n",
       "      <td>3</td>\n",
       "      <td>H</td>\n",
       "      <td>SI2</td>\n",
       "      <td>63.4</td>\n",
       "      <td>57.0</td>\n",
       "      <td>6.10</td>\n",
       "      <td>6.18</td>\n",
       "      <td>3.89</td>\n",
       "      <td>3297.009344</td>\n",
       "    </tr>\n",
       "    <tr>\n",
       "      <th>1</th>\n",
       "      <td>0.38</td>\n",
       "      <td>2</td>\n",
       "      <td>F</td>\n",
       "      <td>VS2</td>\n",
       "      <td>60.3</td>\n",
       "      <td>61.0</td>\n",
       "      <td>4.68</td>\n",
       "      <td>4.71</td>\n",
       "      <td>2.83</td>\n",
       "      <td>808.839912</td>\n",
       "    </tr>\n",
       "    <tr>\n",
       "      <th>2</th>\n",
       "      <td>0.52</td>\n",
       "      <td>5</td>\n",
       "      <td>H</td>\n",
       "      <td>VS2</td>\n",
       "      <td>61.8</td>\n",
       "      <td>56.0</td>\n",
       "      <td>5.19</td>\n",
       "      <td>5.16</td>\n",
       "      <td>3.20</td>\n",
       "      <td>1436.205351</td>\n",
       "    </tr>\n",
       "    <tr>\n",
       "      <th>3</th>\n",
       "      <td>1.10</td>\n",
       "      <td>5</td>\n",
       "      <td>G</td>\n",
       "      <td>VS1</td>\n",
       "      <td>61.3</td>\n",
       "      <td>56.0</td>\n",
       "      <td>6.65</td>\n",
       "      <td>6.69</td>\n",
       "      <td>4.09</td>\n",
       "      <td>7445.217268</td>\n",
       "    </tr>\n",
       "    <tr>\n",
       "      <th>4</th>\n",
       "      <td>2.28</td>\n",
       "      <td>5</td>\n",
       "      <td>G</td>\n",
       "      <td>SI2</td>\n",
       "      <td>61.6</td>\n",
       "      <td>57.0</td>\n",
       "      <td>8.44</td>\n",
       "      <td>8.37</td>\n",
       "      <td>5.18</td>\n",
       "      <td>14394.037478</td>\n",
       "    </tr>\n",
       "    <tr>\n",
       "      <th>...</th>\n",
       "      <td>...</td>\n",
       "      <td>...</td>\n",
       "      <td>...</td>\n",
       "      <td>...</td>\n",
       "      <td>...</td>\n",
       "      <td>...</td>\n",
       "      <td>...</td>\n",
       "      <td>...</td>\n",
       "      <td>...</td>\n",
       "      <td>...</td>\n",
       "    </tr>\n",
       "    <tr>\n",
       "      <th>4995</th>\n",
       "      <td>0.30</td>\n",
       "      <td>3</td>\n",
       "      <td>D</td>\n",
       "      <td>SI2</td>\n",
       "      <td>62.2</td>\n",
       "      <td>59.0</td>\n",
       "      <td>4.25</td>\n",
       "      <td>4.30</td>\n",
       "      <td>2.66</td>\n",
       "      <td>523.832810</td>\n",
       "    </tr>\n",
       "    <tr>\n",
       "      <th>4996</th>\n",
       "      <td>0.51</td>\n",
       "      <td>5</td>\n",
       "      <td>F</td>\n",
       "      <td>VVS2</td>\n",
       "      <td>61.9</td>\n",
       "      <td>56.0</td>\n",
       "      <td>5.09</td>\n",
       "      <td>5.14</td>\n",
       "      <td>3.16</td>\n",
       "      <td>2131.371771</td>\n",
       "    </tr>\n",
       "    <tr>\n",
       "      <th>4997</th>\n",
       "      <td>1.01</td>\n",
       "      <td>3</td>\n",
       "      <td>F</td>\n",
       "      <td>SI1</td>\n",
       "      <td>60.6</td>\n",
       "      <td>60.0</td>\n",
       "      <td>6.37</td>\n",
       "      <td>6.43</td>\n",
       "      <td>3.88</td>\n",
       "      <td>4993.143728</td>\n",
       "    </tr>\n",
       "    <tr>\n",
       "      <th>4998</th>\n",
       "      <td>0.31</td>\n",
       "      <td>5</td>\n",
       "      <td>F</td>\n",
       "      <td>VVS1</td>\n",
       "      <td>62.1</td>\n",
       "      <td>56.0</td>\n",
       "      <td>4.35</td>\n",
       "      <td>4.38</td>\n",
       "      <td>2.71</td>\n",
       "      <td>911.662008</td>\n",
       "    </tr>\n",
       "    <tr>\n",
       "      <th>4999</th>\n",
       "      <td>0.33</td>\n",
       "      <td>5</td>\n",
       "      <td>E</td>\n",
       "      <td>VS2</td>\n",
       "      <td>61.8</td>\n",
       "      <td>55.0</td>\n",
       "      <td>4.45</td>\n",
       "      <td>4.48</td>\n",
       "      <td>2.76</td>\n",
       "      <td>831.258201</td>\n",
       "    </tr>\n",
       "  </tbody>\n",
       "</table>\n",
       "<p>5000 rows × 10 columns</p>\n",
       "</div>"
      ],
      "text/plain": [
       "      carat cut color clarity  depth  table     x     y     z  price_predicted\n",
       "0      0.91   3     H     SI2   63.4   57.0  6.10  6.18  3.89      3297.009344\n",
       "1      0.38   2     F     VS2   60.3   61.0  4.68  4.71  2.83       808.839912\n",
       "2      0.52   5     H     VS2   61.8   56.0  5.19  5.16  3.20      1436.205351\n",
       "3      1.10   5     G     VS1   61.3   56.0  6.65  6.69  4.09      7445.217268\n",
       "4      2.28   5     G     SI2   61.6   57.0  8.44  8.37  5.18     14394.037478\n",
       "...     ...  ..   ...     ...    ...    ...   ...   ...   ...              ...\n",
       "4995   0.30   3     D     SI2   62.2   59.0  4.25  4.30  2.66       523.832810\n",
       "4996   0.51   5     F    VVS2   61.9   56.0  5.09  5.14  3.16      2131.371771\n",
       "4997   1.01   3     F     SI1   60.6   60.0  6.37  6.43  3.88      4993.143728\n",
       "4998   0.31   5     F    VVS1   62.1   56.0  4.35  4.38  2.71       911.662008\n",
       "4999   0.33   5     E     VS2   61.8   55.0  4.45  4.48  2.76       831.258201\n",
       "\n",
       "[5000 rows x 10 columns]"
      ]
     },
     "execution_count": 19,
     "metadata": {},
     "output_type": "execute_result"
    }
   ],
   "source": [
    "#transformando os dados para seus valores originais \n",
    "diamonds_test[['carat', 'cut','depth','x','y','z','table','price']].applymap(lambda x: round(np.exp(x),ndigits=2))\n",
    "diamonds_rick[['carat', 'cut','depth','x','y','z','table', 'price_predicted']].applymap(lambda x: round(np.exp(x),ndigits=2))\n",
    "\n",
    "diamonds_rick.to_csv('testes_price/price_pred', index=False)\n",
    "diamonds_rick"
   ]
  },
  {
   "cell_type": "markdown",
   "id": "eb5083c3",
   "metadata": {
    "heading_collapsed": true
   },
   "source": [
    "# Results\n"
   ]
  },
  {
   "cell_type": "code",
   "execution_count": 20,
   "id": "2997f706",
   "metadata": {
    "ExecuteTime": {
     "end_time": "2022-09-27T11:08:03.851861Z",
     "start_time": "2022-09-27T11:08:03.836906Z"
    },
    "hidden": true
   },
   "outputs": [],
   "source": [
    "# erro usando a média foi 3980.71\n",
    "# erro usando a mediana foi 4255.53\n",
    "# erro usando a primeira modelagem foi 1605.15\n",
    "# erro após a limpeza dos dados foi  1605.13\n",
    "# erro usando segundo modelo foi 1578.53\n",
    "# erro usando mais modelos foi 1254.41\n",
    "# erro usando modelos com Clarity e Color foi 1113.51\n",
    "# erro adicionando cut no X foi 1102.37 \n",
    "# erro usando varios modelos foi 984.97\n",
    "# erro usando 'carat', 'cut','depth','x','y','z','table' como X foi 785.87\n",
    "# erro usando GradientBoostingRegressor foi 579.42\n",
    "# erro transformando os dados 578.12"
   ]
  }
 ],
 "metadata": {
  "kernelspec": {
   "display_name": "Python 3 (ipykernel)",
   "language": "python",
   "name": "python3"
  },
  "language_info": {
   "codemirror_mode": {
    "name": "ipython",
    "version": 3
   },
   "file_extension": ".py",
   "mimetype": "text/x-python",
   "name": "python",
   "nbconvert_exporter": "python",
   "pygments_lexer": "ipython3",
   "version": "3.9.12"
  },
  "toc": {
   "base_numbering": 1,
   "nav_menu": {},
   "number_sections": true,
   "sideBar": true,
   "skip_h1_title": false,
   "title_cell": "Table of Contents",
   "title_sidebar": "Contents",
   "toc_cell": false,
   "toc_position": {},
   "toc_section_display": true,
   "toc_window_display": false
  },
  "varInspector": {
   "cols": {
    "lenName": 16,
    "lenType": 16,
    "lenVar": 40
   },
   "kernels_config": {
    "python": {
     "delete_cmd_postfix": "",
     "delete_cmd_prefix": "del ",
     "library": "var_list.py",
     "varRefreshCmd": "print(var_dic_list())"
    },
    "r": {
     "delete_cmd_postfix": ") ",
     "delete_cmd_prefix": "rm(",
     "library": "var_list.r",
     "varRefreshCmd": "cat(var_dic_list()) "
    }
   },
   "types_to_exclude": [
    "module",
    "function",
    "builtin_function_or_method",
    "instance",
    "_Feature"
   ],
   "window_display": false
  }
 },
 "nbformat": 4,
 "nbformat_minor": 5
}
