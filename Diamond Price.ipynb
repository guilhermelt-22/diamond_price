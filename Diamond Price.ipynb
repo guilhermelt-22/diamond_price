{
 "cells": [
  {
   "cell_type": "markdown",
   "id": "43d56d84",
   "metadata": {},
   "source": [
    "# Import libraries"
   ]
  },
  {
   "cell_type": "code",
   "execution_count": 1,
   "id": "ebb80024",
   "metadata": {
    "ExecuteTime": {
     "end_time": "2022-09-16T13:19:47.803540Z",
     "start_time": "2022-09-16T13:19:45.460179Z"
    }
   },
   "outputs": [],
   "source": [
    "import numpy as np\n",
    "import pandas as pd\n",
    "import seaborn as sns\n",
    "import matplotlib.pyplot as plt\n",
    "from sklearn.linear_model import LinearRegression"
   ]
  },
  {
   "cell_type": "markdown",
   "id": "3c026458",
   "metadata": {},
   "source": [
    "# Read dataset"
   ]
  },
  {
   "cell_type": "code",
   "execution_count": 2,
   "id": "d0d1536a",
   "metadata": {
    "ExecuteTime": {
     "end_time": "2022-09-16T13:19:47.867378Z",
     "start_time": "2022-09-16T13:19:47.804555Z"
    }
   },
   "outputs": [
    {
     "data": {
      "text/html": [
       "<div>\n",
       "<style scoped>\n",
       "    .dataframe tbody tr th:only-of-type {\n",
       "        vertical-align: middle;\n",
       "    }\n",
       "\n",
       "    .dataframe tbody tr th {\n",
       "        vertical-align: top;\n",
       "    }\n",
       "\n",
       "    .dataframe thead th {\n",
       "        text-align: right;\n",
       "    }\n",
       "</style>\n",
       "<table border=\"1\" class=\"dataframe\">\n",
       "  <thead>\n",
       "    <tr style=\"text-align: right;\">\n",
       "      <th></th>\n",
       "      <th>carat</th>\n",
       "      <th>cut</th>\n",
       "      <th>color</th>\n",
       "      <th>clarity</th>\n",
       "      <th>depth</th>\n",
       "      <th>table</th>\n",
       "      <th>price</th>\n",
       "      <th>x</th>\n",
       "      <th>y</th>\n",
       "      <th>z</th>\n",
       "    </tr>\n",
       "  </thead>\n",
       "  <tbody>\n",
       "    <tr>\n",
       "      <th>0</th>\n",
       "      <td>0.21</td>\n",
       "      <td>Premium</td>\n",
       "      <td>E</td>\n",
       "      <td>SI1</td>\n",
       "      <td>59.8</td>\n",
       "      <td>61.0</td>\n",
       "      <td>326</td>\n",
       "      <td>3.89</td>\n",
       "      <td>3.84</td>\n",
       "      <td>2.31</td>\n",
       "    </tr>\n",
       "    <tr>\n",
       "      <th>1</th>\n",
       "      <td>0.23</td>\n",
       "      <td>Good</td>\n",
       "      <td>E</td>\n",
       "      <td>VS1</td>\n",
       "      <td>56.9</td>\n",
       "      <td>65.0</td>\n",
       "      <td>327</td>\n",
       "      <td>4.05</td>\n",
       "      <td>4.07</td>\n",
       "      <td>2.31</td>\n",
       "    </tr>\n",
       "    <tr>\n",
       "      <th>2</th>\n",
       "      <td>0.29</td>\n",
       "      <td>Premium</td>\n",
       "      <td>I</td>\n",
       "      <td>VS2</td>\n",
       "      <td>62.4</td>\n",
       "      <td>58.0</td>\n",
       "      <td>334</td>\n",
       "      <td>4.20</td>\n",
       "      <td>4.23</td>\n",
       "      <td>2.63</td>\n",
       "    </tr>\n",
       "    <tr>\n",
       "      <th>3</th>\n",
       "      <td>0.31</td>\n",
       "      <td>Good</td>\n",
       "      <td>J</td>\n",
       "      <td>SI2</td>\n",
       "      <td>63.3</td>\n",
       "      <td>58.0</td>\n",
       "      <td>335</td>\n",
       "      <td>4.34</td>\n",
       "      <td>4.35</td>\n",
       "      <td>2.75</td>\n",
       "    </tr>\n",
       "    <tr>\n",
       "      <th>4</th>\n",
       "      <td>0.24</td>\n",
       "      <td>Very Good</td>\n",
       "      <td>J</td>\n",
       "      <td>VVS2</td>\n",
       "      <td>62.8</td>\n",
       "      <td>57.0</td>\n",
       "      <td>336</td>\n",
       "      <td>3.94</td>\n",
       "      <td>3.96</td>\n",
       "      <td>2.48</td>\n",
       "    </tr>\n",
       "    <tr>\n",
       "      <th>...</th>\n",
       "      <td>...</td>\n",
       "      <td>...</td>\n",
       "      <td>...</td>\n",
       "      <td>...</td>\n",
       "      <td>...</td>\n",
       "      <td>...</td>\n",
       "      <td>...</td>\n",
       "      <td>...</td>\n",
       "      <td>...</td>\n",
       "      <td>...</td>\n",
       "    </tr>\n",
       "    <tr>\n",
       "      <th>48935</th>\n",
       "      <td>0.72</td>\n",
       "      <td>Premium</td>\n",
       "      <td>D</td>\n",
       "      <td>SI1</td>\n",
       "      <td>62.7</td>\n",
       "      <td>59.0</td>\n",
       "      <td>2757</td>\n",
       "      <td>5.69</td>\n",
       "      <td>5.73</td>\n",
       "      <td>3.58</td>\n",
       "    </tr>\n",
       "    <tr>\n",
       "      <th>48936</th>\n",
       "      <td>0.72</td>\n",
       "      <td>Ideal</td>\n",
       "      <td>D</td>\n",
       "      <td>SI1</td>\n",
       "      <td>60.8</td>\n",
       "      <td>57.0</td>\n",
       "      <td>2757</td>\n",
       "      <td>5.75</td>\n",
       "      <td>5.76</td>\n",
       "      <td>3.50</td>\n",
       "    </tr>\n",
       "    <tr>\n",
       "      <th>48937</th>\n",
       "      <td>0.72</td>\n",
       "      <td>Good</td>\n",
       "      <td>D</td>\n",
       "      <td>SI1</td>\n",
       "      <td>63.1</td>\n",
       "      <td>55.0</td>\n",
       "      <td>2757</td>\n",
       "      <td>5.69</td>\n",
       "      <td>5.75</td>\n",
       "      <td>3.61</td>\n",
       "    </tr>\n",
       "    <tr>\n",
       "      <th>48938</th>\n",
       "      <td>0.70</td>\n",
       "      <td>Very Good</td>\n",
       "      <td>D</td>\n",
       "      <td>SI1</td>\n",
       "      <td>62.8</td>\n",
       "      <td>60.0</td>\n",
       "      <td>2757</td>\n",
       "      <td>5.66</td>\n",
       "      <td>5.68</td>\n",
       "      <td>3.56</td>\n",
       "    </tr>\n",
       "    <tr>\n",
       "      <th>48939</th>\n",
       "      <td>0.75</td>\n",
       "      <td>Ideal</td>\n",
       "      <td>D</td>\n",
       "      <td>SI2</td>\n",
       "      <td>62.2</td>\n",
       "      <td>55.0</td>\n",
       "      <td>2757</td>\n",
       "      <td>5.83</td>\n",
       "      <td>5.87</td>\n",
       "      <td>3.64</td>\n",
       "    </tr>\n",
       "  </tbody>\n",
       "</table>\n",
       "<p>48940 rows × 10 columns</p>\n",
       "</div>"
      ],
      "text/plain": [
       "       carat        cut color clarity  depth  table  price     x     y     z\n",
       "0       0.21    Premium     E     SI1   59.8   61.0    326  3.89  3.84  2.31\n",
       "1       0.23       Good     E     VS1   56.9   65.0    327  4.05  4.07  2.31\n",
       "2       0.29    Premium     I     VS2   62.4   58.0    334  4.20  4.23  2.63\n",
       "3       0.31       Good     J     SI2   63.3   58.0    335  4.34  4.35  2.75\n",
       "4       0.24  Very Good     J    VVS2   62.8   57.0    336  3.94  3.96  2.48\n",
       "...      ...        ...   ...     ...    ...    ...    ...   ...   ...   ...\n",
       "48935   0.72    Premium     D     SI1   62.7   59.0   2757  5.69  5.73  3.58\n",
       "48936   0.72      Ideal     D     SI1   60.8   57.0   2757  5.75  5.76  3.50\n",
       "48937   0.72       Good     D     SI1   63.1   55.0   2757  5.69  5.75  3.61\n",
       "48938   0.70  Very Good     D     SI1   62.8   60.0   2757  5.66  5.68  3.56\n",
       "48939   0.75      Ideal     D     SI2   62.2   55.0   2757  5.83  5.87  3.64\n",
       "\n",
       "[48940 rows x 10 columns]"
      ]
     },
     "execution_count": 2,
     "metadata": {},
     "output_type": "execute_result"
    }
   ],
   "source": [
    "diamonds_test = pd.read_csv('data/diamonds.csv')\n",
    "diamonds_rick = pd.read_csv('data/rick_diamonds.csv')\n",
    "diamonds_test"
   ]
  },
  {
   "cell_type": "markdown",
   "id": "9652d585",
   "metadata": {},
   "source": [
    "# Data Cleaning "
   ]
  },
  {
   "cell_type": "code",
   "execution_count": 3,
   "id": "c7b12dcd",
   "metadata": {
    "ExecuteTime": {
     "end_time": "2022-09-16T13:19:47.882297Z",
     "start_time": "2022-09-16T13:19:47.868334Z"
    }
   },
   "outputs": [],
   "source": [
    "# removendo as colunas de x,y,z que estiverem todas zeradas\n",
    "diamonds_test = diamonds_test[~((diamonds_test['x'] == 0) & (diamonds_test['y'] == 0) & (diamonds_test['z'] == 0))]"
   ]
  },
  {
   "cell_type": "code",
   "execution_count": 4,
   "id": "5d8a2365",
   "metadata": {
    "ExecuteTime": {
     "end_time": "2022-09-16T13:19:47.897291Z",
     "start_time": "2022-09-16T13:19:47.883295Z"
    }
   },
   "outputs": [],
   "source": [
    "# remoção das colunas com x =0, como todas nessas colunas y ou z também era =0\n",
    "diamonds_test = diamonds_test[~(diamonds_test['x'] == 0)]"
   ]
  },
  {
   "cell_type": "code",
   "execution_count": 5,
   "id": "0532fb90",
   "metadata": {
    "ExecuteTime": {
     "end_time": "2022-09-16T13:19:47.914250Z",
     "start_time": "2022-09-16T13:19:47.898290Z"
    }
   },
   "outputs": [
    {
     "data": {
      "text/html": [
       "<div>\n",
       "<style scoped>\n",
       "    .dataframe tbody tr th:only-of-type {\n",
       "        vertical-align: middle;\n",
       "    }\n",
       "\n",
       "    .dataframe tbody tr th {\n",
       "        vertical-align: top;\n",
       "    }\n",
       "\n",
       "    .dataframe thead th {\n",
       "        text-align: right;\n",
       "    }\n",
       "</style>\n",
       "<table border=\"1\" class=\"dataframe\">\n",
       "  <thead>\n",
       "    <tr style=\"text-align: right;\">\n",
       "      <th></th>\n",
       "      <th>carat</th>\n",
       "      <th>cut</th>\n",
       "      <th>color</th>\n",
       "      <th>clarity</th>\n",
       "      <th>depth</th>\n",
       "      <th>table</th>\n",
       "      <th>price</th>\n",
       "      <th>x</th>\n",
       "      <th>y</th>\n",
       "      <th>z</th>\n",
       "    </tr>\n",
       "  </thead>\n",
       "  <tbody>\n",
       "  </tbody>\n",
       "</table>\n",
       "</div>"
      ],
      "text/plain": [
       "Empty DataFrame\n",
       "Columns: [carat, cut, color, clarity, depth, table, price, x, y, z]\n",
       "Index: []"
      ]
     },
     "execution_count": 5,
     "metadata": {},
     "output_type": "execute_result"
    }
   ],
   "source": [
    "# não havia colunas y = 0, logo remoção desnecessária\n",
    "diamonds_test[diamonds_test['y'] == 0]"
   ]
  },
  {
   "cell_type": "code",
   "execution_count": 6,
   "id": "62efe747",
   "metadata": {
    "ExecuteTime": {
     "end_time": "2022-09-16T13:19:47.944168Z",
     "start_time": "2022-09-16T13:19:47.926216Z"
    }
   },
   "outputs": [],
   "source": [
    "# completando as informações perdidas quando o z = 0\n",
    "diamonds_test.loc[diamonds_test['z']==0 ,'z'] = (diamonds_test['depth']*(diamonds_test['x']+diamonds_test['y']))/2"
   ]
  },
  {
   "cell_type": "code",
   "execution_count": 7,
   "id": "8eaff0a0",
   "metadata": {
    "ExecuteTime": {
     "end_time": "2022-09-16T13:19:47.960125Z",
     "start_time": "2022-09-16T13:19:47.945165Z"
    }
   },
   "outputs": [
    {
     "data": {
      "text/html": [
       "<div>\n",
       "<style scoped>\n",
       "    .dataframe tbody tr th:only-of-type {\n",
       "        vertical-align: middle;\n",
       "    }\n",
       "\n",
       "    .dataframe tbody tr th {\n",
       "        vertical-align: top;\n",
       "    }\n",
       "\n",
       "    .dataframe thead th {\n",
       "        text-align: right;\n",
       "    }\n",
       "</style>\n",
       "<table border=\"1\" class=\"dataframe\">\n",
       "  <thead>\n",
       "    <tr style=\"text-align: right;\">\n",
       "      <th></th>\n",
       "      <th>carat</th>\n",
       "      <th>cut</th>\n",
       "      <th>color</th>\n",
       "      <th>clarity</th>\n",
       "      <th>depth</th>\n",
       "      <th>table</th>\n",
       "      <th>price</th>\n",
       "      <th>x</th>\n",
       "      <th>y</th>\n",
       "      <th>z</th>\n",
       "    </tr>\n",
       "  </thead>\n",
       "  <tbody>\n",
       "  </tbody>\n",
       "</table>\n",
       "</div>"
      ],
      "text/plain": [
       "Empty DataFrame\n",
       "Columns: [carat, cut, color, clarity, depth, table, price, x, y, z]\n",
       "Index: []"
      ]
     },
     "execution_count": 7,
     "metadata": {},
     "output_type": "execute_result"
    }
   ],
   "source": [
    "# buscando valores faltando em outras colunas\n",
    "diamonds_test[diamonds_test['price'] == 0]"
   ]
  },
  {
   "cell_type": "code",
   "execution_count": 8,
   "id": "c0243ab7",
   "metadata": {
    "ExecuteTime": {
     "end_time": "2022-09-16T13:19:47.976082Z",
     "start_time": "2022-09-16T13:19:47.962120Z"
    }
   },
   "outputs": [
    {
     "data": {
      "text/html": [
       "<div>\n",
       "<style scoped>\n",
       "    .dataframe tbody tr th:only-of-type {\n",
       "        vertical-align: middle;\n",
       "    }\n",
       "\n",
       "    .dataframe tbody tr th {\n",
       "        vertical-align: top;\n",
       "    }\n",
       "\n",
       "    .dataframe thead th {\n",
       "        text-align: right;\n",
       "    }\n",
       "</style>\n",
       "<table border=\"1\" class=\"dataframe\">\n",
       "  <thead>\n",
       "    <tr style=\"text-align: right;\">\n",
       "      <th></th>\n",
       "      <th>carat</th>\n",
       "      <th>cut</th>\n",
       "      <th>color</th>\n",
       "      <th>clarity</th>\n",
       "      <th>depth</th>\n",
       "      <th>table</th>\n",
       "      <th>price</th>\n",
       "      <th>x</th>\n",
       "      <th>y</th>\n",
       "      <th>z</th>\n",
       "    </tr>\n",
       "  </thead>\n",
       "  <tbody>\n",
       "  </tbody>\n",
       "</table>\n",
       "</div>"
      ],
      "text/plain": [
       "Empty DataFrame\n",
       "Columns: [carat, cut, color, clarity, depth, table, price, x, y, z]\n",
       "Index: []"
      ]
     },
     "execution_count": 8,
     "metadata": {},
     "output_type": "execute_result"
    }
   ],
   "source": [
    "diamonds_test[diamonds_test['table'] == 0]"
   ]
  },
  {
   "cell_type": "code",
   "execution_count": 9,
   "id": "45d1a1fc",
   "metadata": {
    "ExecuteTime": {
     "end_time": "2022-09-16T13:19:47.992039Z",
     "start_time": "2022-09-16T13:19:47.978076Z"
    }
   },
   "outputs": [
    {
     "data": {
      "text/plain": [
       "array(['SI1', 'VS1', 'VS2', 'SI2', 'VVS2', 'VVS1', 'I1', 'IF'],\n",
       "      dtype=object)"
      ]
     },
     "execution_count": 9,
     "metadata": {},
     "output_type": "execute_result"
    }
   ],
   "source": [
    "diamonds_test['clarity'].unique()"
   ]
  },
  {
   "cell_type": "code",
   "execution_count": 10,
   "id": "fa6b5e48",
   "metadata": {
    "ExecuteTime": {
     "end_time": "2022-09-16T13:19:48.007997Z",
     "start_time": "2022-09-16T13:19:47.993038Z"
    }
   },
   "outputs": [
    {
     "data": {
      "text/plain": [
       "array(['E', 'I', 'J', 'H', 'F', 'G', 'D'], dtype=object)"
      ]
     },
     "execution_count": 10,
     "metadata": {},
     "output_type": "execute_result"
    }
   ],
   "source": [
    "diamonds_test['color'].unique()"
   ]
  },
  {
   "cell_type": "code",
   "execution_count": 11,
   "id": "e0399016",
   "metadata": {
    "ExecuteTime": {
     "end_time": "2022-09-16T13:19:48.024003Z",
     "start_time": "2022-09-16T13:19:48.008995Z"
    }
   },
   "outputs": [
    {
     "data": {
      "text/plain": [
       "array(['Premium', 'Good', 'Very Good', 'Ideal', 'Fair'], dtype=object)"
      ]
     },
     "execution_count": 11,
     "metadata": {},
     "output_type": "execute_result"
    }
   ],
   "source": [
    "diamonds_test['cut'].unique()"
   ]
  },
  {
   "cell_type": "markdown",
   "id": "8a8eb325",
   "metadata": {
    "heading_collapsed": true
   },
   "source": [
    "# Exploratory Analysis"
   ]
  },
  {
   "cell_type": "code",
   "execution_count": 24,
   "id": "99e71210",
   "metadata": {
    "ExecuteTime": {
     "end_time": "2022-09-16T13:32:54.111304Z",
     "start_time": "2022-09-16T13:32:54.088391Z"
    },
    "hidden": true
   },
   "outputs": [
    {
     "data": {
      "text/plain": [
       "carat    0.922207\n",
       "depth   -0.012077\n",
       "table    0.127854\n",
       "price    1.000000\n",
       "x        0.887904\n",
       "y        0.866568\n",
       "z        0.112812\n",
       "Name: price, dtype: float64"
      ]
     },
     "execution_count": 24,
     "metadata": {},
     "output_type": "execute_result"
    }
   ],
   "source": [
    "# identificando as correlações\n",
    "diamonds_test.corr()['price']"
   ]
  },
  {
   "cell_type": "markdown",
   "id": "9ff14a87",
   "metadata": {},
   "source": [
    "# Data transformation"
   ]
  },
  {
   "cell_type": "code",
   "execution_count": 32,
   "id": "1abf4962",
   "metadata": {
    "ExecuteTime": {
     "end_time": "2022-09-16T13:39:10.456582Z",
     "start_time": "2022-09-16T13:39:10.430652Z"
    }
   },
   "outputs": [],
   "source": [
    "# transformando as categorias da coluna cut pra numericas \n",
    "diamonds_test.loc[diamonds_test['cut'] == 'Ideal','cut'] = 5\n",
    "diamonds_test.loc[diamonds_test['cut'] == 'Premium','cut'] = 4\n",
    "diamonds_test.loc[diamonds_test['cut'] == 'Very Good','cut'] = 3\n",
    "diamonds_test.loc[diamonds_test['cut'] == 'Good','cut'] = 2\n",
    "diamonds_test.loc[diamonds_test['cut'] == 'Fair','cut'] = 1\n",
    "\n",
    "diamonds_rick.loc[diamonds_rick['cut'] == 'Ideal','cut'] = 5\n",
    "diamonds_rick.loc[diamonds_rick['cut'] == 'Premium','cut'] = 4\n",
    "diamonds_rick.loc[diamonds_rick['cut'] == 'Very Good','cut'] = 3\n",
    "diamonds_rick.loc[diamonds_rick['cut'] == 'Good','cut'] = 2\n",
    "diamonds_rick.loc[diamonds_rick['cut'] == 'Fair','cut'] = 1"
   ]
  },
  {
   "cell_type": "markdown",
   "id": "a2700613",
   "metadata": {},
   "source": [
    "# Modeling"
   ]
  },
  {
   "cell_type": "code",
   "execution_count": 33,
   "id": "aa796822",
   "metadata": {
    "ExecuteTime": {
     "end_time": "2022-09-16T13:39:12.682899Z",
     "start_time": "2022-09-16T13:39:12.651016Z"
    }
   },
   "outputs": [],
   "source": [
    "X = diamonds_test[['carat','cut']]\n",
    "y = diamonds_test['price']\n",
    "\n",
    "model = LinearRegression()\n",
    "model.fit(X,y)\n",
    "\n",
    "price_pred = model.predict(diamonds_rick[['carat','cut']])\n",
    "diamonds_rick['price_predicted'] = price_pred"
   ]
  },
  {
   "cell_type": "markdown",
   "id": "b2d6863b",
   "metadata": {},
   "source": [
    "# To CSV"
   ]
  },
  {
   "cell_type": "code",
   "execution_count": 34,
   "id": "a20fe923",
   "metadata": {
    "ExecuteTime": {
     "end_time": "2022-09-16T13:39:16.518253Z",
     "start_time": "2022-09-16T13:39:16.465068Z"
    }
   },
   "outputs": [
    {
     "data": {
      "text/html": [
       "<div>\n",
       "<style scoped>\n",
       "    .dataframe tbody tr th:only-of-type {\n",
       "        vertical-align: middle;\n",
       "    }\n",
       "\n",
       "    .dataframe tbody tr th {\n",
       "        vertical-align: top;\n",
       "    }\n",
       "\n",
       "    .dataframe thead th {\n",
       "        text-align: right;\n",
       "    }\n",
       "</style>\n",
       "<table border=\"1\" class=\"dataframe\">\n",
       "  <thead>\n",
       "    <tr style=\"text-align: right;\">\n",
       "      <th></th>\n",
       "      <th>carat</th>\n",
       "      <th>cut</th>\n",
       "      <th>color</th>\n",
       "      <th>clarity</th>\n",
       "      <th>depth</th>\n",
       "      <th>table</th>\n",
       "      <th>x</th>\n",
       "      <th>y</th>\n",
       "      <th>z</th>\n",
       "      <th>price_predicted</th>\n",
       "    </tr>\n",
       "  </thead>\n",
       "  <tbody>\n",
       "    <tr>\n",
       "      <th>0</th>\n",
       "      <td>0.91</td>\n",
       "      <td>3</td>\n",
       "      <td>H</td>\n",
       "      <td>SI2</td>\n",
       "      <td>63.4</td>\n",
       "      <td>57.0</td>\n",
       "      <td>6.10</td>\n",
       "      <td>6.18</td>\n",
       "      <td>3.89</td>\n",
       "      <td>4581.318047</td>\n",
       "    </tr>\n",
       "    <tr>\n",
       "      <th>1</th>\n",
       "      <td>0.38</td>\n",
       "      <td>2</td>\n",
       "      <td>F</td>\n",
       "      <td>VS2</td>\n",
       "      <td>60.3</td>\n",
       "      <td>61.0</td>\n",
       "      <td>4.68</td>\n",
       "      <td>4.71</td>\n",
       "      <td>2.83</td>\n",
       "      <td>169.254650</td>\n",
       "    </tr>\n",
       "    <tr>\n",
       "      <th>2</th>\n",
       "      <td>0.52</td>\n",
       "      <td>5</td>\n",
       "      <td>H</td>\n",
       "      <td>VS2</td>\n",
       "      <td>61.8</td>\n",
       "      <td>56.0</td>\n",
       "      <td>5.19</td>\n",
       "      <td>5.16</td>\n",
       "      <td>3.20</td>\n",
       "      <td>2036.304355</td>\n",
       "    </tr>\n",
       "    <tr>\n",
       "      <th>3</th>\n",
       "      <td>1.10</td>\n",
       "      <td>5</td>\n",
       "      <td>G</td>\n",
       "      <td>VS1</td>\n",
       "      <td>61.3</td>\n",
       "      <td>56.0</td>\n",
       "      <td>6.65</td>\n",
       "      <td>6.69</td>\n",
       "      <td>4.09</td>\n",
       "      <td>6583.960550</td>\n",
       "    </tr>\n",
       "    <tr>\n",
       "      <th>4</th>\n",
       "      <td>2.28</td>\n",
       "      <td>5</td>\n",
       "      <td>G</td>\n",
       "      <td>SI2</td>\n",
       "      <td>61.6</td>\n",
       "      <td>57.0</td>\n",
       "      <td>8.44</td>\n",
       "      <td>8.37</td>\n",
       "      <td>5.18</td>\n",
       "      <td>15836.088671</td>\n",
       "    </tr>\n",
       "    <tr>\n",
       "      <th>...</th>\n",
       "      <td>...</td>\n",
       "      <td>...</td>\n",
       "      <td>...</td>\n",
       "      <td>...</td>\n",
       "      <td>...</td>\n",
       "      <td>...</td>\n",
       "      <td>...</td>\n",
       "      <td>...</td>\n",
       "      <td>...</td>\n",
       "      <td>...</td>\n",
       "    </tr>\n",
       "    <tr>\n",
       "      <th>4995</th>\n",
       "      <td>0.30</td>\n",
       "      <td>3</td>\n",
       "      <td>D</td>\n",
       "      <td>SI2</td>\n",
       "      <td>62.2</td>\n",
       "      <td>59.0</td>\n",
       "      <td>4.25</td>\n",
       "      <td>4.30</td>\n",
       "      <td>2.66</td>\n",
       "      <td>-201.561744</td>\n",
       "    </tr>\n",
       "    <tr>\n",
       "      <th>4996</th>\n",
       "      <td>0.51</td>\n",
       "      <td>5</td>\n",
       "      <td>F</td>\n",
       "      <td>VVS2</td>\n",
       "      <td>61.9</td>\n",
       "      <td>56.0</td>\n",
       "      <td>5.09</td>\n",
       "      <td>5.14</td>\n",
       "      <td>3.16</td>\n",
       "      <td>1957.896490</td>\n",
       "    </tr>\n",
       "    <tr>\n",
       "      <th>4997</th>\n",
       "      <td>1.01</td>\n",
       "      <td>3</td>\n",
       "      <td>F</td>\n",
       "      <td>SI1</td>\n",
       "      <td>60.6</td>\n",
       "      <td>60.0</td>\n",
       "      <td>6.37</td>\n",
       "      <td>6.43</td>\n",
       "      <td>3.88</td>\n",
       "      <td>5365.396702</td>\n",
       "    </tr>\n",
       "    <tr>\n",
       "      <th>4998</th>\n",
       "      <td>0.31</td>\n",
       "      <td>5</td>\n",
       "      <td>F</td>\n",
       "      <td>VVS1</td>\n",
       "      <td>62.1</td>\n",
       "      <td>56.0</td>\n",
       "      <td>4.35</td>\n",
       "      <td>4.38</td>\n",
       "      <td>2.71</td>\n",
       "      <td>389.739181</td>\n",
       "    </tr>\n",
       "    <tr>\n",
       "      <th>4999</th>\n",
       "      <td>0.33</td>\n",
       "      <td>5</td>\n",
       "      <td>E</td>\n",
       "      <td>VS2</td>\n",
       "      <td>61.8</td>\n",
       "      <td>55.0</td>\n",
       "      <td>4.45</td>\n",
       "      <td>4.48</td>\n",
       "      <td>2.76</td>\n",
       "      <td>546.554912</td>\n",
       "    </tr>\n",
       "  </tbody>\n",
       "</table>\n",
       "<p>5000 rows × 10 columns</p>\n",
       "</div>"
      ],
      "text/plain": [
       "      carat cut color clarity  depth  table     x     y     z  price_predicted\n",
       "0      0.91   3     H     SI2   63.4   57.0  6.10  6.18  3.89      4581.318047\n",
       "1      0.38   2     F     VS2   60.3   61.0  4.68  4.71  2.83       169.254650\n",
       "2      0.52   5     H     VS2   61.8   56.0  5.19  5.16  3.20      2036.304355\n",
       "3      1.10   5     G     VS1   61.3   56.0  6.65  6.69  4.09      6583.960550\n",
       "4      2.28   5     G     SI2   61.6   57.0  8.44  8.37  5.18     15836.088671\n",
       "...     ...  ..   ...     ...    ...    ...   ...   ...   ...              ...\n",
       "4995   0.30   3     D     SI2   62.2   59.0  4.25  4.30  2.66      -201.561744\n",
       "4996   0.51   5     F    VVS2   61.9   56.0  5.09  5.14  3.16      1957.896490\n",
       "4997   1.01   3     F     SI1   60.6   60.0  6.37  6.43  3.88      5365.396702\n",
       "4998   0.31   5     F    VVS1   62.1   56.0  4.35  4.38  2.71       389.739181\n",
       "4999   0.33   5     E     VS2   61.8   55.0  4.45  4.48  2.76       546.554912\n",
       "\n",
       "[5000 rows x 10 columns]"
      ]
     },
     "execution_count": 34,
     "metadata": {},
     "output_type": "execute_result"
    }
   ],
   "source": [
    "diamonds_rick.to_csv('testes_price/price_pred', index=False)\n",
    "diamonds_rick"
   ]
  },
  {
   "cell_type": "markdown",
   "id": "eb5083c3",
   "metadata": {},
   "source": [
    "# Results\n"
   ]
  },
  {
   "cell_type": "code",
   "execution_count": 15,
   "id": "2997f706",
   "metadata": {
    "ExecuteTime": {
     "end_time": "2022-09-16T13:19:48.149889Z",
     "start_time": "2022-09-16T13:19:48.134929Z"
    }
   },
   "outputs": [],
   "source": [
    "# erro usando a média foi 3980.71\n",
    "# erro usando a mediana foi 4255.53\n",
    "# erro usando a primeira modelagem foi 1605.15\n",
    "# erro após a limpeza dos dados foi  1605.13\n",
    "# erro usando segundo modelo foi 1578.53"
   ]
  }
 ],
 "metadata": {
  "kernelspec": {
   "display_name": "Python 3 (ipykernel)",
   "language": "python",
   "name": "python3"
  },
  "language_info": {
   "codemirror_mode": {
    "name": "ipython",
    "version": 3
   },
   "file_extension": ".py",
   "mimetype": "text/x-python",
   "name": "python",
   "nbconvert_exporter": "python",
   "pygments_lexer": "ipython3",
   "version": "3.9.12"
  },
  "toc": {
   "base_numbering": 1,
   "nav_menu": {},
   "number_sections": true,
   "sideBar": true,
   "skip_h1_title": false,
   "title_cell": "Table of Contents",
   "title_sidebar": "Contents",
   "toc_cell": false,
   "toc_position": {},
   "toc_section_display": true,
   "toc_window_display": false
  },
  "varInspector": {
   "cols": {
    "lenName": 16,
    "lenType": 16,
    "lenVar": 40
   },
   "kernels_config": {
    "python": {
     "delete_cmd_postfix": "",
     "delete_cmd_prefix": "del ",
     "library": "var_list.py",
     "varRefreshCmd": "print(var_dic_list())"
    },
    "r": {
     "delete_cmd_postfix": ") ",
     "delete_cmd_prefix": "rm(",
     "library": "var_list.r",
     "varRefreshCmd": "cat(var_dic_list()) "
    }
   },
   "types_to_exclude": [
    "module",
    "function",
    "builtin_function_or_method",
    "instance",
    "_Feature"
   ],
   "window_display": false
  }
 },
 "nbformat": 4,
 "nbformat_minor": 5
}
