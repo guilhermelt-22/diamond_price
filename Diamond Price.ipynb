{
 "cells": [
  {
   "cell_type": "markdown",
   "id": "43d56d84",
   "metadata": {},
   "source": [
    "# Import libraries"
   ]
  },
  {
   "cell_type": "code",
   "execution_count": null,
   "id": "66a3309a",
   "metadata": {},
   "outputs": [],
   "source": []
  },
  {
   "cell_type": "code",
   "execution_count": 1,
   "id": "ebb80024",
   "metadata": {
    "ExecuteTime": {
     "end_time": "2022-09-16T13:45:19.813881Z",
     "start_time": "2022-09-16T13:45:18.318298Z"
    }
   },
   "outputs": [],
   "source": [
    "import numpy as np\n",
    "import pandas as pd\n",
    "import seaborn as sns\n",
    "import matplotlib.pyplot as plt\n",
    "from sklearn.linear_model import LinearRegression"
   ]
  },
  {
   "cell_type": "markdown",
   "id": "9756f39b",
   "metadata": {},
   "source": [
    "# Funções"
   ]
  },
  {
   "cell_type": "code",
   "execution_count": 37,
   "id": "93fcc91d",
   "metadata": {
    "ExecuteTime": {
     "end_time": "2022-09-16T15:13:10.658826Z",
     "start_time": "2022-09-16T15:13:10.653840Z"
    }
   },
   "outputs": [],
   "source": [
    "def cria_modelos(df, df_pred, x_test, y_test):\n",
    "    '''\n",
    "    Função que cria modelos para a previsão\n",
    "    '''\n",
    "    X = df[x_test]\n",
    "    y = df[y_test]\n",
    "\n",
    "    model = LinearRegression()\n",
    "    model.fit(X,y)\n",
    "    \n",
    "    price_pred = model.predict(df_pred[x_test])\n",
    "    \n",
    "    return price_pred"
   ]
  },
  {
   "cell_type": "markdown",
   "id": "3c026458",
   "metadata": {
    "heading_collapsed": true
   },
   "source": [
    "# Read dataset"
   ]
  },
  {
   "cell_type": "code",
   "execution_count": 2,
   "id": "d0d1536a",
   "metadata": {
    "ExecuteTime": {
     "end_time": "2022-09-16T13:45:19.877710Z",
     "start_time": "2022-09-16T13:45:19.814877Z"
    },
    "hidden": true
   },
   "outputs": [
    {
     "data": {
      "text/html": [
       "<div>\n",
       "<style scoped>\n",
       "    .dataframe tbody tr th:only-of-type {\n",
       "        vertical-align: middle;\n",
       "    }\n",
       "\n",
       "    .dataframe tbody tr th {\n",
       "        vertical-align: top;\n",
       "    }\n",
       "\n",
       "    .dataframe thead th {\n",
       "        text-align: right;\n",
       "    }\n",
       "</style>\n",
       "<table border=\"1\" class=\"dataframe\">\n",
       "  <thead>\n",
       "    <tr style=\"text-align: right;\">\n",
       "      <th></th>\n",
       "      <th>carat</th>\n",
       "      <th>cut</th>\n",
       "      <th>color</th>\n",
       "      <th>clarity</th>\n",
       "      <th>depth</th>\n",
       "      <th>table</th>\n",
       "      <th>price</th>\n",
       "      <th>x</th>\n",
       "      <th>y</th>\n",
       "      <th>z</th>\n",
       "    </tr>\n",
       "  </thead>\n",
       "  <tbody>\n",
       "    <tr>\n",
       "      <th>0</th>\n",
       "      <td>0.21</td>\n",
       "      <td>Premium</td>\n",
       "      <td>E</td>\n",
       "      <td>SI1</td>\n",
       "      <td>59.8</td>\n",
       "      <td>61.0</td>\n",
       "      <td>326</td>\n",
       "      <td>3.89</td>\n",
       "      <td>3.84</td>\n",
       "      <td>2.31</td>\n",
       "    </tr>\n",
       "    <tr>\n",
       "      <th>1</th>\n",
       "      <td>0.23</td>\n",
       "      <td>Good</td>\n",
       "      <td>E</td>\n",
       "      <td>VS1</td>\n",
       "      <td>56.9</td>\n",
       "      <td>65.0</td>\n",
       "      <td>327</td>\n",
       "      <td>4.05</td>\n",
       "      <td>4.07</td>\n",
       "      <td>2.31</td>\n",
       "    </tr>\n",
       "    <tr>\n",
       "      <th>2</th>\n",
       "      <td>0.29</td>\n",
       "      <td>Premium</td>\n",
       "      <td>I</td>\n",
       "      <td>VS2</td>\n",
       "      <td>62.4</td>\n",
       "      <td>58.0</td>\n",
       "      <td>334</td>\n",
       "      <td>4.20</td>\n",
       "      <td>4.23</td>\n",
       "      <td>2.63</td>\n",
       "    </tr>\n",
       "    <tr>\n",
       "      <th>3</th>\n",
       "      <td>0.31</td>\n",
       "      <td>Good</td>\n",
       "      <td>J</td>\n",
       "      <td>SI2</td>\n",
       "      <td>63.3</td>\n",
       "      <td>58.0</td>\n",
       "      <td>335</td>\n",
       "      <td>4.34</td>\n",
       "      <td>4.35</td>\n",
       "      <td>2.75</td>\n",
       "    </tr>\n",
       "    <tr>\n",
       "      <th>4</th>\n",
       "      <td>0.24</td>\n",
       "      <td>Very Good</td>\n",
       "      <td>J</td>\n",
       "      <td>VVS2</td>\n",
       "      <td>62.8</td>\n",
       "      <td>57.0</td>\n",
       "      <td>336</td>\n",
       "      <td>3.94</td>\n",
       "      <td>3.96</td>\n",
       "      <td>2.48</td>\n",
       "    </tr>\n",
       "    <tr>\n",
       "      <th>...</th>\n",
       "      <td>...</td>\n",
       "      <td>...</td>\n",
       "      <td>...</td>\n",
       "      <td>...</td>\n",
       "      <td>...</td>\n",
       "      <td>...</td>\n",
       "      <td>...</td>\n",
       "      <td>...</td>\n",
       "      <td>...</td>\n",
       "      <td>...</td>\n",
       "    </tr>\n",
       "    <tr>\n",
       "      <th>48935</th>\n",
       "      <td>0.72</td>\n",
       "      <td>Premium</td>\n",
       "      <td>D</td>\n",
       "      <td>SI1</td>\n",
       "      <td>62.7</td>\n",
       "      <td>59.0</td>\n",
       "      <td>2757</td>\n",
       "      <td>5.69</td>\n",
       "      <td>5.73</td>\n",
       "      <td>3.58</td>\n",
       "    </tr>\n",
       "    <tr>\n",
       "      <th>48936</th>\n",
       "      <td>0.72</td>\n",
       "      <td>Ideal</td>\n",
       "      <td>D</td>\n",
       "      <td>SI1</td>\n",
       "      <td>60.8</td>\n",
       "      <td>57.0</td>\n",
       "      <td>2757</td>\n",
       "      <td>5.75</td>\n",
       "      <td>5.76</td>\n",
       "      <td>3.50</td>\n",
       "    </tr>\n",
       "    <tr>\n",
       "      <th>48937</th>\n",
       "      <td>0.72</td>\n",
       "      <td>Good</td>\n",
       "      <td>D</td>\n",
       "      <td>SI1</td>\n",
       "      <td>63.1</td>\n",
       "      <td>55.0</td>\n",
       "      <td>2757</td>\n",
       "      <td>5.69</td>\n",
       "      <td>5.75</td>\n",
       "      <td>3.61</td>\n",
       "    </tr>\n",
       "    <tr>\n",
       "      <th>48938</th>\n",
       "      <td>0.70</td>\n",
       "      <td>Very Good</td>\n",
       "      <td>D</td>\n",
       "      <td>SI1</td>\n",
       "      <td>62.8</td>\n",
       "      <td>60.0</td>\n",
       "      <td>2757</td>\n",
       "      <td>5.66</td>\n",
       "      <td>5.68</td>\n",
       "      <td>3.56</td>\n",
       "    </tr>\n",
       "    <tr>\n",
       "      <th>48939</th>\n",
       "      <td>0.75</td>\n",
       "      <td>Ideal</td>\n",
       "      <td>D</td>\n",
       "      <td>SI2</td>\n",
       "      <td>62.2</td>\n",
       "      <td>55.0</td>\n",
       "      <td>2757</td>\n",
       "      <td>5.83</td>\n",
       "      <td>5.87</td>\n",
       "      <td>3.64</td>\n",
       "    </tr>\n",
       "  </tbody>\n",
       "</table>\n",
       "<p>48940 rows × 10 columns</p>\n",
       "</div>"
      ],
      "text/plain": [
       "       carat        cut color clarity  depth  table  price     x     y     z\n",
       "0       0.21    Premium     E     SI1   59.8   61.0    326  3.89  3.84  2.31\n",
       "1       0.23       Good     E     VS1   56.9   65.0    327  4.05  4.07  2.31\n",
       "2       0.29    Premium     I     VS2   62.4   58.0    334  4.20  4.23  2.63\n",
       "3       0.31       Good     J     SI2   63.3   58.0    335  4.34  4.35  2.75\n",
       "4       0.24  Very Good     J    VVS2   62.8   57.0    336  3.94  3.96  2.48\n",
       "...      ...        ...   ...     ...    ...    ...    ...   ...   ...   ...\n",
       "48935   0.72    Premium     D     SI1   62.7   59.0   2757  5.69  5.73  3.58\n",
       "48936   0.72      Ideal     D     SI1   60.8   57.0   2757  5.75  5.76  3.50\n",
       "48937   0.72       Good     D     SI1   63.1   55.0   2757  5.69  5.75  3.61\n",
       "48938   0.70  Very Good     D     SI1   62.8   60.0   2757  5.66  5.68  3.56\n",
       "48939   0.75      Ideal     D     SI2   62.2   55.0   2757  5.83  5.87  3.64\n",
       "\n",
       "[48940 rows x 10 columns]"
      ]
     },
     "execution_count": 2,
     "metadata": {},
     "output_type": "execute_result"
    }
   ],
   "source": [
    "diamonds_test = pd.read_csv('data/diamonds.csv')\n",
    "diamonds_rick = pd.read_csv('data/rick_diamonds.csv')\n",
    "diamonds_test"
   ]
  },
  {
   "cell_type": "markdown",
   "id": "9652d585",
   "metadata": {
    "heading_collapsed": true
   },
   "source": [
    "# Data Cleaning "
   ]
  },
  {
   "cell_type": "code",
   "execution_count": 3,
   "id": "c7b12dcd",
   "metadata": {
    "ExecuteTime": {
     "end_time": "2022-09-16T13:45:19.892981Z",
     "start_time": "2022-09-16T13:45:19.879676Z"
    },
    "hidden": true
   },
   "outputs": [],
   "source": [
    "# removendo as colunas de x,y,z que estiverem todas zeradas\n",
    "diamonds_test = diamonds_test[~((diamonds_test['x'] == 0) & (diamonds_test['y'] == 0) & (diamonds_test['z'] == 0))]"
   ]
  },
  {
   "cell_type": "code",
   "execution_count": 4,
   "id": "ff345feb",
   "metadata": {
    "ExecuteTime": {
     "end_time": "2022-09-16T13:45:19.908167Z",
     "start_time": "2022-09-16T13:45:19.893980Z"
    },
    "hidden": true
   },
   "outputs": [],
   "source": [
    "# remoção das colunas com x =0, como todas nessas colunas y ou z também era =0\n",
    "diamonds_test = diamonds_test[~(diamonds_test['x'] == 0)]"
   ]
  },
  {
   "cell_type": "code",
   "execution_count": 5,
   "id": "51b9b81b",
   "metadata": {
    "ExecuteTime": {
     "end_time": "2022-09-16T13:45:19.924240Z",
     "start_time": "2022-09-16T13:45:19.909164Z"
    },
    "hidden": true
   },
   "outputs": [
    {
     "data": {
      "text/html": [
       "<div>\n",
       "<style scoped>\n",
       "    .dataframe tbody tr th:only-of-type {\n",
       "        vertical-align: middle;\n",
       "    }\n",
       "\n",
       "    .dataframe tbody tr th {\n",
       "        vertical-align: top;\n",
       "    }\n",
       "\n",
       "    .dataframe thead th {\n",
       "        text-align: right;\n",
       "    }\n",
       "</style>\n",
       "<table border=\"1\" class=\"dataframe\">\n",
       "  <thead>\n",
       "    <tr style=\"text-align: right;\">\n",
       "      <th></th>\n",
       "      <th>carat</th>\n",
       "      <th>cut</th>\n",
       "      <th>color</th>\n",
       "      <th>clarity</th>\n",
       "      <th>depth</th>\n",
       "      <th>table</th>\n",
       "      <th>price</th>\n",
       "      <th>x</th>\n",
       "      <th>y</th>\n",
       "      <th>z</th>\n",
       "    </tr>\n",
       "  </thead>\n",
       "  <tbody>\n",
       "  </tbody>\n",
       "</table>\n",
       "</div>"
      ],
      "text/plain": [
       "Empty DataFrame\n",
       "Columns: [carat, cut, color, clarity, depth, table, price, x, y, z]\n",
       "Index: []"
      ]
     },
     "execution_count": 5,
     "metadata": {},
     "output_type": "execute_result"
    }
   ],
   "source": [
    "# não havia colunas y = 0, logo remoção desnecessária\n",
    "diamonds_test[diamonds_test['y'] == 0]"
   ]
  },
  {
   "cell_type": "code",
   "execution_count": 6,
   "id": "1bf9787c",
   "metadata": {
    "ExecuteTime": {
     "end_time": "2022-09-16T13:45:19.940229Z",
     "start_time": "2022-09-16T13:45:19.925122Z"
    },
    "hidden": true
   },
   "outputs": [],
   "source": [
    "# completando as informações perdidas quando o z = 0\n",
    "diamonds_test.loc[diamonds_test['z']==0 ,'z'] = (diamonds_test['depth']*(diamonds_test['x']+diamonds_test['y']))/2"
   ]
  },
  {
   "cell_type": "code",
   "execution_count": 7,
   "id": "af7aa0d4",
   "metadata": {
    "ExecuteTime": {
     "end_time": "2022-09-16T13:45:19.955390Z",
     "start_time": "2022-09-16T13:45:19.941259Z"
    },
    "hidden": true
   },
   "outputs": [
    {
     "data": {
      "text/html": [
       "<div>\n",
       "<style scoped>\n",
       "    .dataframe tbody tr th:only-of-type {\n",
       "        vertical-align: middle;\n",
       "    }\n",
       "\n",
       "    .dataframe tbody tr th {\n",
       "        vertical-align: top;\n",
       "    }\n",
       "\n",
       "    .dataframe thead th {\n",
       "        text-align: right;\n",
       "    }\n",
       "</style>\n",
       "<table border=\"1\" class=\"dataframe\">\n",
       "  <thead>\n",
       "    <tr style=\"text-align: right;\">\n",
       "      <th></th>\n",
       "      <th>carat</th>\n",
       "      <th>cut</th>\n",
       "      <th>color</th>\n",
       "      <th>clarity</th>\n",
       "      <th>depth</th>\n",
       "      <th>table</th>\n",
       "      <th>price</th>\n",
       "      <th>x</th>\n",
       "      <th>y</th>\n",
       "      <th>z</th>\n",
       "    </tr>\n",
       "  </thead>\n",
       "  <tbody>\n",
       "  </tbody>\n",
       "</table>\n",
       "</div>"
      ],
      "text/plain": [
       "Empty DataFrame\n",
       "Columns: [carat, cut, color, clarity, depth, table, price, x, y, z]\n",
       "Index: []"
      ]
     },
     "execution_count": 7,
     "metadata": {},
     "output_type": "execute_result"
    }
   ],
   "source": [
    "# buscando valores faltando em outras colunas\n",
    "diamonds_test[diamonds_test['price'] == 0]"
   ]
  },
  {
   "cell_type": "code",
   "execution_count": 8,
   "id": "f210b151",
   "metadata": {
    "ExecuteTime": {
     "end_time": "2022-09-16T13:45:19.971466Z",
     "start_time": "2022-09-16T13:45:19.956390Z"
    },
    "hidden": true
   },
   "outputs": [
    {
     "data": {
      "text/html": [
       "<div>\n",
       "<style scoped>\n",
       "    .dataframe tbody tr th:only-of-type {\n",
       "        vertical-align: middle;\n",
       "    }\n",
       "\n",
       "    .dataframe tbody tr th {\n",
       "        vertical-align: top;\n",
       "    }\n",
       "\n",
       "    .dataframe thead th {\n",
       "        text-align: right;\n",
       "    }\n",
       "</style>\n",
       "<table border=\"1\" class=\"dataframe\">\n",
       "  <thead>\n",
       "    <tr style=\"text-align: right;\">\n",
       "      <th></th>\n",
       "      <th>carat</th>\n",
       "      <th>cut</th>\n",
       "      <th>color</th>\n",
       "      <th>clarity</th>\n",
       "      <th>depth</th>\n",
       "      <th>table</th>\n",
       "      <th>price</th>\n",
       "      <th>x</th>\n",
       "      <th>y</th>\n",
       "      <th>z</th>\n",
       "    </tr>\n",
       "  </thead>\n",
       "  <tbody>\n",
       "  </tbody>\n",
       "</table>\n",
       "</div>"
      ],
      "text/plain": [
       "Empty DataFrame\n",
       "Columns: [carat, cut, color, clarity, depth, table, price, x, y, z]\n",
       "Index: []"
      ]
     },
     "execution_count": 8,
     "metadata": {},
     "output_type": "execute_result"
    }
   ],
   "source": [
    "diamonds_test[diamonds_test['table'] == 0]"
   ]
  },
  {
   "cell_type": "code",
   "execution_count": 9,
   "id": "4023a8bb",
   "metadata": {
    "ExecuteTime": {
     "end_time": "2022-09-16T13:45:19.987338Z",
     "start_time": "2022-09-16T13:45:19.973345Z"
    },
    "hidden": true
   },
   "outputs": [
    {
     "data": {
      "text/plain": [
       "array(['SI1', 'VS1', 'VS2', 'SI2', 'VVS2', 'VVS1', 'I1', 'IF'],\n",
       "      dtype=object)"
      ]
     },
     "execution_count": 9,
     "metadata": {},
     "output_type": "execute_result"
    }
   ],
   "source": [
    "diamonds_test['clarity'].unique()"
   ]
  },
  {
   "cell_type": "code",
   "execution_count": 10,
   "id": "f31d89be",
   "metadata": {
    "ExecuteTime": {
     "end_time": "2022-09-16T13:45:20.003296Z",
     "start_time": "2022-09-16T13:45:19.988305Z"
    },
    "hidden": true
   },
   "outputs": [
    {
     "data": {
      "text/plain": [
       "array(['E', 'I', 'J', 'H', 'F', 'G', 'D'], dtype=object)"
      ]
     },
     "execution_count": 10,
     "metadata": {},
     "output_type": "execute_result"
    }
   ],
   "source": [
    "diamonds_test['color'].unique()"
   ]
  },
  {
   "cell_type": "code",
   "execution_count": 11,
   "id": "93760acf",
   "metadata": {
    "ExecuteTime": {
     "end_time": "2022-09-16T13:45:20.019222Z",
     "start_time": "2022-09-16T13:45:20.004261Z"
    },
    "hidden": true
   },
   "outputs": [
    {
     "data": {
      "text/plain": [
       "array(['Premium', 'Good', 'Very Good', 'Ideal', 'Fair'], dtype=object)"
      ]
     },
     "execution_count": 11,
     "metadata": {},
     "output_type": "execute_result"
    }
   ],
   "source": [
    "diamonds_test['cut'].unique()"
   ]
  },
  {
   "cell_type": "markdown",
   "id": "8a8eb325",
   "metadata": {
    "heading_collapsed": true
   },
   "source": [
    "# Exploratory Analysis"
   ]
  },
  {
   "cell_type": "code",
   "execution_count": 12,
   "id": "99e71210",
   "metadata": {
    "ExecuteTime": {
     "end_time": "2022-09-16T13:45:20.035208Z",
     "start_time": "2022-09-16T13:45:20.020219Z"
    },
    "hidden": true
   },
   "outputs": [
    {
     "data": {
      "text/plain": [
       "carat    0.922207\n",
       "depth   -0.012077\n",
       "table    0.127854\n",
       "price    1.000000\n",
       "x        0.887904\n",
       "y        0.866568\n",
       "z        0.112812\n",
       "Name: price, dtype: float64"
      ]
     },
     "execution_count": 12,
     "metadata": {},
     "output_type": "execute_result"
    }
   ],
   "source": [
    "# identificando as correlações\n",
    "diamonds_test.corr()['price']\n",
    "#outras explorações foram feitas no tableau"
   ]
  },
  {
   "cell_type": "markdown",
   "id": "9ff14a87",
   "metadata": {
    "heading_collapsed": true
   },
   "source": [
    "# Data transformation"
   ]
  },
  {
   "cell_type": "code",
   "execution_count": null,
   "id": "1abf4962",
   "metadata": {
    "ExecuteTime": {
     "end_time": "2022-09-16T13:39:10.456582Z",
     "start_time": "2022-09-16T13:39:10.430652Z"
    },
    "hidden": true
   },
   "outputs": [],
   "source": []
  },
  {
   "cell_type": "markdown",
   "id": "a2700613",
   "metadata": {},
   "source": [
    "# Modeling"
   ]
  },
  {
   "cell_type": "code",
   "execution_count": 32,
   "id": "df4ddc66",
   "metadata": {
    "ExecuteTime": {
     "end_time": "2022-09-16T15:02:42.166277Z",
     "start_time": "2022-09-16T15:02:42.160291Z"
    }
   },
   "outputs": [],
   "source": [
    "#Criando a Coluna price_predicted no dataframe\n",
    "diamonds_rick['price_predicted'] = 0 "
   ]
  },
  {
   "cell_type": "code",
   "execution_count": 48,
   "id": "3a3dda8d",
   "metadata": {
    "ExecuteTime": {
     "end_time": "2022-09-16T15:27:51.354711Z",
     "start_time": "2022-09-16T15:27:51.324793Z"
    }
   },
   "outputs": [],
   "source": [
    "#criando modelo para Clarity = VVS1, VVS2 e IF e aplicando no diamonds_rick\n",
    "mask_teste = (diamonds_test['clarity'] == 'VVS1') |(diamonds_test['clarity'] == 'VVS2') | (diamonds_test['clarity'] == 'IF')\n",
    "mask_rick = (diamonds_rick['clarity'] == 'VVS1') |(diamonds_rick['clarity'] == 'VVS2') | (diamonds_rick['clarity'] == 'IF')\n",
    "\n",
    "diamonds_rick.loc[mask_rick, 'price_predicted'] = cria_modelos(diamonds_test[mask_teste],diamonds_rick[mask_rick],['carat'],'price')"
   ]
  },
  {
   "cell_type": "code",
   "execution_count": 49,
   "id": "3a2afca4",
   "metadata": {
    "ExecuteTime": {
     "end_time": "2022-09-16T15:31:16.501150Z",
     "start_time": "2022-09-16T15:31:16.477243Z"
    }
   },
   "outputs": [],
   "source": [
    "#criando modelo para Clarity = VS1 e VS2 e e aplicando no diamonds_rick\n",
    "mask_teste = (diamonds_test['clarity'] == 'VS1') |(diamonds_test['clarity'] == 'VS2')\n",
    "mask_rick = (diamonds_rick['clarity'] == 'VS1') |(diamonds_rick['clarity'] == 'VS2')\n",
    "\n",
    "diamonds_rick.loc[mask_rick, 'price_predicted'] = cria_modelos(diamonds_test[mask_teste],diamonds_rick[mask_rick],['carat'],'price')"
   ]
  },
  {
   "cell_type": "code",
   "execution_count": 50,
   "id": "aa796822",
   "metadata": {
    "ExecuteTime": {
     "end_time": "2022-09-16T15:32:10.814868Z",
     "start_time": "2022-09-16T15:32:10.769021Z"
    }
   },
   "outputs": [],
   "source": [
    "#criando modelo para Clarity = SI1 e SI2 e e aplicando no diamonds_rick\n",
    "mask_teste = (diamonds_test['clarity'] == 'SI1') |(diamonds_test['clarity'] == 'SI2')\n",
    "mask_rick = (diamonds_rick['clarity'] == 'SI1') |(diamonds_rick['clarity'] == 'SI2')\n",
    "\n",
    "diamonds_rick.loc[mask_rick, 'price_predicted'] = cria_modelos(diamonds_test[mask_teste],diamonds_rick[mask_rick],['carat'],'price')"
   ]
  },
  {
   "cell_type": "code",
   "execution_count": 51,
   "id": "a942e883",
   "metadata": {
    "ExecuteTime": {
     "end_time": "2022-09-16T15:32:55.323486Z",
     "start_time": "2022-09-16T15:32:55.303512Z"
    }
   },
   "outputs": [],
   "source": [
    "#criando modelo para Clarity = I1 e e aplicando no diamonds_rick\n",
    "mask_teste = (diamonds_test['clarity'] == 'I1')\n",
    "mask_rick = (diamonds_rick['clarity'] == 'I1')\n",
    "\n",
    "diamonds_rick.loc[mask_rick, 'price_predicted'] = cria_modelos(diamonds_test[mask_teste],diamonds_rick[mask_rick],['carat'],'price')"
   ]
  },
  {
   "cell_type": "markdown",
   "id": "b2d6863b",
   "metadata": {},
   "source": [
    "# To CSV"
   ]
  },
  {
   "cell_type": "code",
   "execution_count": 52,
   "id": "a20fe923",
   "metadata": {
    "ExecuteTime": {
     "end_time": "2022-09-16T15:33:00.298647Z",
     "start_time": "2022-09-16T15:33:00.247787Z"
    }
   },
   "outputs": [
    {
     "data": {
      "text/html": [
       "<div>\n",
       "<style scoped>\n",
       "    .dataframe tbody tr th:only-of-type {\n",
       "        vertical-align: middle;\n",
       "    }\n",
       "\n",
       "    .dataframe tbody tr th {\n",
       "        vertical-align: top;\n",
       "    }\n",
       "\n",
       "    .dataframe thead th {\n",
       "        text-align: right;\n",
       "    }\n",
       "</style>\n",
       "<table border=\"1\" class=\"dataframe\">\n",
       "  <thead>\n",
       "    <tr style=\"text-align: right;\">\n",
       "      <th></th>\n",
       "      <th>carat</th>\n",
       "      <th>cut</th>\n",
       "      <th>color</th>\n",
       "      <th>clarity</th>\n",
       "      <th>depth</th>\n",
       "      <th>table</th>\n",
       "      <th>x</th>\n",
       "      <th>y</th>\n",
       "      <th>z</th>\n",
       "      <th>price_predicted</th>\n",
       "    </tr>\n",
       "  </thead>\n",
       "  <tbody>\n",
       "    <tr>\n",
       "      <th>0</th>\n",
       "      <td>0.91</td>\n",
       "      <td>Very Good</td>\n",
       "      <td>H</td>\n",
       "      <td>SI2</td>\n",
       "      <td>63.4</td>\n",
       "      <td>57.0</td>\n",
       "      <td>6.10</td>\n",
       "      <td>6.18</td>\n",
       "      <td>3.89</td>\n",
       "      <td>4169.858678</td>\n",
       "    </tr>\n",
       "    <tr>\n",
       "      <th>1</th>\n",
       "      <td>0.38</td>\n",
       "      <td>Good</td>\n",
       "      <td>F</td>\n",
       "      <td>VS2</td>\n",
       "      <td>60.3</td>\n",
       "      <td>61.0</td>\n",
       "      <td>4.68</td>\n",
       "      <td>4.71</td>\n",
       "      <td>2.83</td>\n",
       "      <td>660.426324</td>\n",
       "    </tr>\n",
       "    <tr>\n",
       "      <th>2</th>\n",
       "      <td>0.52</td>\n",
       "      <td>Ideal</td>\n",
       "      <td>H</td>\n",
       "      <td>VS2</td>\n",
       "      <td>61.8</td>\n",
       "      <td>56.0</td>\n",
       "      <td>5.19</td>\n",
       "      <td>5.16</td>\n",
       "      <td>3.20</td>\n",
       "      <td>1884.709095</td>\n",
       "    </tr>\n",
       "    <tr>\n",
       "      <th>3</th>\n",
       "      <td>1.10</td>\n",
       "      <td>Ideal</td>\n",
       "      <td>G</td>\n",
       "      <td>VS1</td>\n",
       "      <td>61.3</td>\n",
       "      <td>56.0</td>\n",
       "      <td>6.65</td>\n",
       "      <td>6.69</td>\n",
       "      <td>4.09</td>\n",
       "      <td>6956.737718</td>\n",
       "    </tr>\n",
       "    <tr>\n",
       "      <th>4</th>\n",
       "      <td>2.28</td>\n",
       "      <td>Ideal</td>\n",
       "      <td>G</td>\n",
       "      <td>SI2</td>\n",
       "      <td>61.6</td>\n",
       "      <td>57.0</td>\n",
       "      <td>8.44</td>\n",
       "      <td>8.37</td>\n",
       "      <td>5.18</td>\n",
       "      <td>14876.070047</td>\n",
       "    </tr>\n",
       "    <tr>\n",
       "      <th>...</th>\n",
       "      <td>...</td>\n",
       "      <td>...</td>\n",
       "      <td>...</td>\n",
       "      <td>...</td>\n",
       "      <td>...</td>\n",
       "      <td>...</td>\n",
       "      <td>...</td>\n",
       "      <td>...</td>\n",
       "      <td>...</td>\n",
       "      <td>...</td>\n",
       "    </tr>\n",
       "    <tr>\n",
       "      <th>4995</th>\n",
       "      <td>0.30</td>\n",
       "      <td>Very Good</td>\n",
       "      <td>D</td>\n",
       "      <td>SI2</td>\n",
       "      <td>62.2</td>\n",
       "      <td>59.0</td>\n",
       "      <td>4.25</td>\n",
       "      <td>4.30</td>\n",
       "      <td>2.66</td>\n",
       "      <td>-597.140545</td>\n",
       "    </tr>\n",
       "    <tr>\n",
       "      <th>4996</th>\n",
       "      <td>0.51</td>\n",
       "      <td>Ideal</td>\n",
       "      <td>F</td>\n",
       "      <td>VVS2</td>\n",
       "      <td>61.9</td>\n",
       "      <td>56.0</td>\n",
       "      <td>5.09</td>\n",
       "      <td>5.14</td>\n",
       "      <td>3.16</td>\n",
       "      <td>2548.555092</td>\n",
       "    </tr>\n",
       "    <tr>\n",
       "      <th>4997</th>\n",
       "      <td>1.01</td>\n",
       "      <td>Very Good</td>\n",
       "      <td>F</td>\n",
       "      <td>SI1</td>\n",
       "      <td>60.6</td>\n",
       "      <td>60.0</td>\n",
       "      <td>6.37</td>\n",
       "      <td>6.43</td>\n",
       "      <td>3.88</td>\n",
       "      <td>4951.333961</td>\n",
       "    </tr>\n",
       "    <tr>\n",
       "      <th>4998</th>\n",
       "      <td>0.31</td>\n",
       "      <td>Ideal</td>\n",
       "      <td>F</td>\n",
       "      <td>VVS1</td>\n",
       "      <td>62.1</td>\n",
       "      <td>56.0</td>\n",
       "      <td>4.35</td>\n",
       "      <td>4.38</td>\n",
       "      <td>2.71</td>\n",
       "      <td>475.724473</td>\n",
       "    </tr>\n",
       "    <tr>\n",
       "      <th>4999</th>\n",
       "      <td>0.33</td>\n",
       "      <td>Ideal</td>\n",
       "      <td>E</td>\n",
       "      <td>VS2</td>\n",
       "      <td>61.8</td>\n",
       "      <td>55.0</td>\n",
       "      <td>4.45</td>\n",
       "      <td>4.48</td>\n",
       "      <td>2.76</td>\n",
       "      <td>223.182477</td>\n",
       "    </tr>\n",
       "  </tbody>\n",
       "</table>\n",
       "<p>5000 rows × 10 columns</p>\n",
       "</div>"
      ],
      "text/plain": [
       "      carat        cut color clarity  depth  table     x     y     z  \\\n",
       "0      0.91  Very Good     H     SI2   63.4   57.0  6.10  6.18  3.89   \n",
       "1      0.38       Good     F     VS2   60.3   61.0  4.68  4.71  2.83   \n",
       "2      0.52      Ideal     H     VS2   61.8   56.0  5.19  5.16  3.20   \n",
       "3      1.10      Ideal     G     VS1   61.3   56.0  6.65  6.69  4.09   \n",
       "4      2.28      Ideal     G     SI2   61.6   57.0  8.44  8.37  5.18   \n",
       "...     ...        ...   ...     ...    ...    ...   ...   ...   ...   \n",
       "4995   0.30  Very Good     D     SI2   62.2   59.0  4.25  4.30  2.66   \n",
       "4996   0.51      Ideal     F    VVS2   61.9   56.0  5.09  5.14  3.16   \n",
       "4997   1.01  Very Good     F     SI1   60.6   60.0  6.37  6.43  3.88   \n",
       "4998   0.31      Ideal     F    VVS1   62.1   56.0  4.35  4.38  2.71   \n",
       "4999   0.33      Ideal     E     VS2   61.8   55.0  4.45  4.48  2.76   \n",
       "\n",
       "      price_predicted  \n",
       "0         4169.858678  \n",
       "1          660.426324  \n",
       "2         1884.709095  \n",
       "3         6956.737718  \n",
       "4        14876.070047  \n",
       "...               ...  \n",
       "4995      -597.140545  \n",
       "4996      2548.555092  \n",
       "4997      4951.333961  \n",
       "4998       475.724473  \n",
       "4999       223.182477  \n",
       "\n",
       "[5000 rows x 10 columns]"
      ]
     },
     "execution_count": 52,
     "metadata": {},
     "output_type": "execute_result"
    }
   ],
   "source": [
    "diamonds_rick.to_csv('testes_price/price_pred', index=False)\n",
    "diamonds_rick"
   ]
  },
  {
   "cell_type": "markdown",
   "id": "eb5083c3",
   "metadata": {},
   "source": [
    "# Results\n"
   ]
  },
  {
   "cell_type": "code",
   "execution_count": 15,
   "id": "2997f706",
   "metadata": {
    "ExecuteTime": {
     "end_time": "2022-09-16T13:45:20.128928Z",
     "start_time": "2022-09-16T13:45:20.114966Z"
    }
   },
   "outputs": [],
   "source": [
    "# erro usando a média foi 3980.71\n",
    "# erro usando a mediana foi 4255.53\n",
    "# erro usando a primeira modelagem foi 1605.15\n",
    "# erro após a limpeza dos dados foi  1605.13\n",
    "# erro usando segundo modelo foi 1578.53\n",
    "# erro usando mais modelos foi 1254.41"
   ]
  }
 ],
 "metadata": {
  "kernelspec": {
   "display_name": "Python 3 (ipykernel)",
   "language": "python",
   "name": "python3"
  },
  "language_info": {
   "codemirror_mode": {
    "name": "ipython",
    "version": 3
   },
   "file_extension": ".py",
   "mimetype": "text/x-python",
   "name": "python",
   "nbconvert_exporter": "python",
   "pygments_lexer": "ipython3",
   "version": "3.9.12"
  },
  "toc": {
   "base_numbering": 1,
   "nav_menu": {},
   "number_sections": true,
   "sideBar": true,
   "skip_h1_title": false,
   "title_cell": "Table of Contents",
   "title_sidebar": "Contents",
   "toc_cell": false,
   "toc_position": {},
   "toc_section_display": true,
   "toc_window_display": false
  },
  "varInspector": {
   "cols": {
    "lenName": 16,
    "lenType": 16,
    "lenVar": 40
   },
   "kernels_config": {
    "python": {
     "delete_cmd_postfix": "",
     "delete_cmd_prefix": "del ",
     "library": "var_list.py",
     "varRefreshCmd": "print(var_dic_list())"
    },
    "r": {
     "delete_cmd_postfix": ") ",
     "delete_cmd_prefix": "rm(",
     "library": "var_list.r",
     "varRefreshCmd": "cat(var_dic_list()) "
    }
   },
   "types_to_exclude": [
    "module",
    "function",
    "builtin_function_or_method",
    "instance",
    "_Feature"
   ],
   "window_display": false
  }
 },
 "nbformat": 4,
 "nbformat_minor": 5
}
