{
 "cells": [
  {
   "cell_type": "markdown",
   "id": "43d56d84",
   "metadata": {
    "heading_collapsed": true
   },
   "source": [
    "# Import libraries"
   ]
  },
  {
   "cell_type": "code",
   "execution_count": null,
   "id": "89d1e81d",
   "metadata": {
    "hidden": true
   },
   "outputs": [],
   "source": []
  },
  {
   "cell_type": "code",
   "execution_count": 1,
   "id": "ebb80024",
   "metadata": {
    "ExecuteTime": {
     "end_time": "2022-09-16T16:36:41.868316Z",
     "start_time": "2022-09-16T16:36:39.762377Z"
    },
    "hidden": true
   },
   "outputs": [],
   "source": [
    "import numpy as np\n",
    "import pandas as pd\n",
    "import seaborn as sns\n",
    "import matplotlib.pyplot as plt\n",
    "from sklearn.linear_model import LinearRegression"
   ]
  },
  {
   "cell_type": "markdown",
   "id": "dec050dc",
   "metadata": {
    "heading_collapsed": true
   },
   "source": [
    "# Funções"
   ]
  },
  {
   "cell_type": "code",
   "execution_count": 2,
   "id": "b5aaef68",
   "metadata": {
    "ExecuteTime": {
     "end_time": "2022-09-16T16:36:41.884310Z",
     "start_time": "2022-09-16T16:36:41.869313Z"
    },
    "hidden": true
   },
   "outputs": [],
   "source": [
    "def cria_modelos(df, df_pred, x_test, y_test):\n",
    "    '''\n",
    "    Função que cria modelos para a previsão\n",
    "    '''\n",
    "    X = df[x_test]\n",
    "    y = df[y_test]\n",
    "\n",
    "    model = LinearRegression()\n",
    "    model.fit(X,y)\n",
    "    \n",
    "    price_pred = model.predict(df_pred[x_test])\n",
    "    \n",
    "    return price_pred"
   ]
  },
  {
   "cell_type": "markdown",
   "id": "3c026458",
   "metadata": {},
   "source": [
    "# Read dataset"
   ]
  },
  {
   "cell_type": "code",
   "execution_count": 3,
   "id": "d0d1536a",
   "metadata": {
    "ExecuteTime": {
     "end_time": "2022-09-16T16:36:41.964060Z",
     "start_time": "2022-09-16T16:36:41.886268Z"
    }
   },
   "outputs": [
    {
     "data": {
      "text/html": [
       "<div>\n",
       "<style scoped>\n",
       "    .dataframe tbody tr th:only-of-type {\n",
       "        vertical-align: middle;\n",
       "    }\n",
       "\n",
       "    .dataframe tbody tr th {\n",
       "        vertical-align: top;\n",
       "    }\n",
       "\n",
       "    .dataframe thead th {\n",
       "        text-align: right;\n",
       "    }\n",
       "</style>\n",
       "<table border=\"1\" class=\"dataframe\">\n",
       "  <thead>\n",
       "    <tr style=\"text-align: right;\">\n",
       "      <th></th>\n",
       "      <th>carat</th>\n",
       "      <th>cut</th>\n",
       "      <th>color</th>\n",
       "      <th>clarity</th>\n",
       "      <th>depth</th>\n",
       "      <th>table</th>\n",
       "      <th>price</th>\n",
       "      <th>x</th>\n",
       "      <th>y</th>\n",
       "      <th>z</th>\n",
       "    </tr>\n",
       "  </thead>\n",
       "  <tbody>\n",
       "    <tr>\n",
       "      <th>0</th>\n",
       "      <td>0.21</td>\n",
       "      <td>Premium</td>\n",
       "      <td>E</td>\n",
       "      <td>SI1</td>\n",
       "      <td>59.8</td>\n",
       "      <td>61.0</td>\n",
       "      <td>326</td>\n",
       "      <td>3.89</td>\n",
       "      <td>3.84</td>\n",
       "      <td>2.31</td>\n",
       "    </tr>\n",
       "    <tr>\n",
       "      <th>1</th>\n",
       "      <td>0.23</td>\n",
       "      <td>Good</td>\n",
       "      <td>E</td>\n",
       "      <td>VS1</td>\n",
       "      <td>56.9</td>\n",
       "      <td>65.0</td>\n",
       "      <td>327</td>\n",
       "      <td>4.05</td>\n",
       "      <td>4.07</td>\n",
       "      <td>2.31</td>\n",
       "    </tr>\n",
       "    <tr>\n",
       "      <th>2</th>\n",
       "      <td>0.29</td>\n",
       "      <td>Premium</td>\n",
       "      <td>I</td>\n",
       "      <td>VS2</td>\n",
       "      <td>62.4</td>\n",
       "      <td>58.0</td>\n",
       "      <td>334</td>\n",
       "      <td>4.20</td>\n",
       "      <td>4.23</td>\n",
       "      <td>2.63</td>\n",
       "    </tr>\n",
       "    <tr>\n",
       "      <th>3</th>\n",
       "      <td>0.31</td>\n",
       "      <td>Good</td>\n",
       "      <td>J</td>\n",
       "      <td>SI2</td>\n",
       "      <td>63.3</td>\n",
       "      <td>58.0</td>\n",
       "      <td>335</td>\n",
       "      <td>4.34</td>\n",
       "      <td>4.35</td>\n",
       "      <td>2.75</td>\n",
       "    </tr>\n",
       "    <tr>\n",
       "      <th>4</th>\n",
       "      <td>0.24</td>\n",
       "      <td>Very Good</td>\n",
       "      <td>J</td>\n",
       "      <td>VVS2</td>\n",
       "      <td>62.8</td>\n",
       "      <td>57.0</td>\n",
       "      <td>336</td>\n",
       "      <td>3.94</td>\n",
       "      <td>3.96</td>\n",
       "      <td>2.48</td>\n",
       "    </tr>\n",
       "    <tr>\n",
       "      <th>...</th>\n",
       "      <td>...</td>\n",
       "      <td>...</td>\n",
       "      <td>...</td>\n",
       "      <td>...</td>\n",
       "      <td>...</td>\n",
       "      <td>...</td>\n",
       "      <td>...</td>\n",
       "      <td>...</td>\n",
       "      <td>...</td>\n",
       "      <td>...</td>\n",
       "    </tr>\n",
       "    <tr>\n",
       "      <th>48935</th>\n",
       "      <td>0.72</td>\n",
       "      <td>Premium</td>\n",
       "      <td>D</td>\n",
       "      <td>SI1</td>\n",
       "      <td>62.7</td>\n",
       "      <td>59.0</td>\n",
       "      <td>2757</td>\n",
       "      <td>5.69</td>\n",
       "      <td>5.73</td>\n",
       "      <td>3.58</td>\n",
       "    </tr>\n",
       "    <tr>\n",
       "      <th>48936</th>\n",
       "      <td>0.72</td>\n",
       "      <td>Ideal</td>\n",
       "      <td>D</td>\n",
       "      <td>SI1</td>\n",
       "      <td>60.8</td>\n",
       "      <td>57.0</td>\n",
       "      <td>2757</td>\n",
       "      <td>5.75</td>\n",
       "      <td>5.76</td>\n",
       "      <td>3.50</td>\n",
       "    </tr>\n",
       "    <tr>\n",
       "      <th>48937</th>\n",
       "      <td>0.72</td>\n",
       "      <td>Good</td>\n",
       "      <td>D</td>\n",
       "      <td>SI1</td>\n",
       "      <td>63.1</td>\n",
       "      <td>55.0</td>\n",
       "      <td>2757</td>\n",
       "      <td>5.69</td>\n",
       "      <td>5.75</td>\n",
       "      <td>3.61</td>\n",
       "    </tr>\n",
       "    <tr>\n",
       "      <th>48938</th>\n",
       "      <td>0.70</td>\n",
       "      <td>Very Good</td>\n",
       "      <td>D</td>\n",
       "      <td>SI1</td>\n",
       "      <td>62.8</td>\n",
       "      <td>60.0</td>\n",
       "      <td>2757</td>\n",
       "      <td>5.66</td>\n",
       "      <td>5.68</td>\n",
       "      <td>3.56</td>\n",
       "    </tr>\n",
       "    <tr>\n",
       "      <th>48939</th>\n",
       "      <td>0.75</td>\n",
       "      <td>Ideal</td>\n",
       "      <td>D</td>\n",
       "      <td>SI2</td>\n",
       "      <td>62.2</td>\n",
       "      <td>55.0</td>\n",
       "      <td>2757</td>\n",
       "      <td>5.83</td>\n",
       "      <td>5.87</td>\n",
       "      <td>3.64</td>\n",
       "    </tr>\n",
       "  </tbody>\n",
       "</table>\n",
       "<p>48940 rows × 10 columns</p>\n",
       "</div>"
      ],
      "text/plain": [
       "       carat        cut color clarity  depth  table  price     x     y     z\n",
       "0       0.21    Premium     E     SI1   59.8   61.0    326  3.89  3.84  2.31\n",
       "1       0.23       Good     E     VS1   56.9   65.0    327  4.05  4.07  2.31\n",
       "2       0.29    Premium     I     VS2   62.4   58.0    334  4.20  4.23  2.63\n",
       "3       0.31       Good     J     SI2   63.3   58.0    335  4.34  4.35  2.75\n",
       "4       0.24  Very Good     J    VVS2   62.8   57.0    336  3.94  3.96  2.48\n",
       "...      ...        ...   ...     ...    ...    ...    ...   ...   ...   ...\n",
       "48935   0.72    Premium     D     SI1   62.7   59.0   2757  5.69  5.73  3.58\n",
       "48936   0.72      Ideal     D     SI1   60.8   57.0   2757  5.75  5.76  3.50\n",
       "48937   0.72       Good     D     SI1   63.1   55.0   2757  5.69  5.75  3.61\n",
       "48938   0.70  Very Good     D     SI1   62.8   60.0   2757  5.66  5.68  3.56\n",
       "48939   0.75      Ideal     D     SI2   62.2   55.0   2757  5.83  5.87  3.64\n",
       "\n",
       "[48940 rows x 10 columns]"
      ]
     },
     "execution_count": 3,
     "metadata": {},
     "output_type": "execute_result"
    }
   ],
   "source": [
    "diamonds_test = pd.read_csv('data/diamonds.csv')\n",
    "diamonds_rick = pd.read_csv('data/rick_diamonds.csv')\n",
    "diamonds_test"
   ]
  },
  {
   "cell_type": "markdown",
   "id": "9652d585",
   "metadata": {
    "heading_collapsed": true
   },
   "source": [
    "# Data Cleaning "
   ]
  },
  {
   "cell_type": "code",
   "execution_count": 4,
   "id": "c7b12dcd",
   "metadata": {
    "ExecuteTime": {
     "end_time": "2022-09-16T16:36:41.979779Z",
     "start_time": "2022-09-16T16:36:41.964816Z"
    },
    "hidden": true
   },
   "outputs": [],
   "source": [
    "# removendo as colunas de x,y,z que estiverem todas zeradas\n",
    "diamonds_test = diamonds_test[~((diamonds_test['x'] == 0) & (diamonds_test['y'] == 0) & (diamonds_test['z'] == 0))]"
   ]
  },
  {
   "cell_type": "code",
   "execution_count": 5,
   "id": "453f5c30",
   "metadata": {
    "ExecuteTime": {
     "end_time": "2022-09-16T16:36:41.995736Z",
     "start_time": "2022-09-16T16:36:41.980776Z"
    },
    "hidden": true
   },
   "outputs": [],
   "source": [
    "# remoção das colunas com x =0, como todas nessas colunas y ou z também era =0\n",
    "diamonds_test = diamonds_test[~(diamonds_test['x'] == 0)]"
   ]
  },
  {
   "cell_type": "code",
   "execution_count": 6,
   "id": "55668106",
   "metadata": {
    "ExecuteTime": {
     "end_time": "2022-09-16T16:36:42.011803Z",
     "start_time": "2022-09-16T16:36:41.996733Z"
    },
    "hidden": true
   },
   "outputs": [
    {
     "data": {
      "text/html": [
       "<div>\n",
       "<style scoped>\n",
       "    .dataframe tbody tr th:only-of-type {\n",
       "        vertical-align: middle;\n",
       "    }\n",
       "\n",
       "    .dataframe tbody tr th {\n",
       "        vertical-align: top;\n",
       "    }\n",
       "\n",
       "    .dataframe thead th {\n",
       "        text-align: right;\n",
       "    }\n",
       "</style>\n",
       "<table border=\"1\" class=\"dataframe\">\n",
       "  <thead>\n",
       "    <tr style=\"text-align: right;\">\n",
       "      <th></th>\n",
       "      <th>carat</th>\n",
       "      <th>cut</th>\n",
       "      <th>color</th>\n",
       "      <th>clarity</th>\n",
       "      <th>depth</th>\n",
       "      <th>table</th>\n",
       "      <th>price</th>\n",
       "      <th>x</th>\n",
       "      <th>y</th>\n",
       "      <th>z</th>\n",
       "    </tr>\n",
       "  </thead>\n",
       "  <tbody>\n",
       "  </tbody>\n",
       "</table>\n",
       "</div>"
      ],
      "text/plain": [
       "Empty DataFrame\n",
       "Columns: [carat, cut, color, clarity, depth, table, price, x, y, z]\n",
       "Index: []"
      ]
     },
     "execution_count": 6,
     "metadata": {},
     "output_type": "execute_result"
    }
   ],
   "source": [
    "# não havia colunas y = 0, logo remoção desnecessária\n",
    "diamonds_test[diamonds_test['y'] == 0]"
   ]
  },
  {
   "cell_type": "code",
   "execution_count": 7,
   "id": "408b19a8",
   "metadata": {
    "ExecuteTime": {
     "end_time": "2022-09-16T16:36:42.027795Z",
     "start_time": "2022-09-16T16:36:42.012690Z"
    },
    "hidden": true
   },
   "outputs": [],
   "source": [
    "# completando as informações perdidas quando o z = 0\n",
    "diamonds_test.loc[diamonds_test['z']==0 ,'z'] = (diamonds_test['depth']*(diamonds_test['x']+diamonds_test['y']))/2"
   ]
  },
  {
   "cell_type": "code",
   "execution_count": 8,
   "id": "62dd86a0",
   "metadata": {
    "ExecuteTime": {
     "end_time": "2022-09-16T16:36:42.043882Z",
     "start_time": "2022-09-16T16:36:42.028820Z"
    },
    "hidden": true
   },
   "outputs": [
    {
     "data": {
      "text/html": [
       "<div>\n",
       "<style scoped>\n",
       "    .dataframe tbody tr th:only-of-type {\n",
       "        vertical-align: middle;\n",
       "    }\n",
       "\n",
       "    .dataframe tbody tr th {\n",
       "        vertical-align: top;\n",
       "    }\n",
       "\n",
       "    .dataframe thead th {\n",
       "        text-align: right;\n",
       "    }\n",
       "</style>\n",
       "<table border=\"1\" class=\"dataframe\">\n",
       "  <thead>\n",
       "    <tr style=\"text-align: right;\">\n",
       "      <th></th>\n",
       "      <th>carat</th>\n",
       "      <th>cut</th>\n",
       "      <th>color</th>\n",
       "      <th>clarity</th>\n",
       "      <th>depth</th>\n",
       "      <th>table</th>\n",
       "      <th>price</th>\n",
       "      <th>x</th>\n",
       "      <th>y</th>\n",
       "      <th>z</th>\n",
       "    </tr>\n",
       "  </thead>\n",
       "  <tbody>\n",
       "  </tbody>\n",
       "</table>\n",
       "</div>"
      ],
      "text/plain": [
       "Empty DataFrame\n",
       "Columns: [carat, cut, color, clarity, depth, table, price, x, y, z]\n",
       "Index: []"
      ]
     },
     "execution_count": 8,
     "metadata": {},
     "output_type": "execute_result"
    }
   ],
   "source": [
    "# buscando valores faltando em outras colunas\n",
    "diamonds_test[diamonds_test['price'] == 0]"
   ]
  },
  {
   "cell_type": "code",
   "execution_count": 9,
   "id": "d7313763",
   "metadata": {
    "ExecuteTime": {
     "end_time": "2022-09-16T16:36:42.059870Z",
     "start_time": "2022-09-16T16:36:42.045874Z"
    },
    "hidden": true
   },
   "outputs": [
    {
     "data": {
      "text/html": [
       "<div>\n",
       "<style scoped>\n",
       "    .dataframe tbody tr th:only-of-type {\n",
       "        vertical-align: middle;\n",
       "    }\n",
       "\n",
       "    .dataframe tbody tr th {\n",
       "        vertical-align: top;\n",
       "    }\n",
       "\n",
       "    .dataframe thead th {\n",
       "        text-align: right;\n",
       "    }\n",
       "</style>\n",
       "<table border=\"1\" class=\"dataframe\">\n",
       "  <thead>\n",
       "    <tr style=\"text-align: right;\">\n",
       "      <th></th>\n",
       "      <th>carat</th>\n",
       "      <th>cut</th>\n",
       "      <th>color</th>\n",
       "      <th>clarity</th>\n",
       "      <th>depth</th>\n",
       "      <th>table</th>\n",
       "      <th>price</th>\n",
       "      <th>x</th>\n",
       "      <th>y</th>\n",
       "      <th>z</th>\n",
       "    </tr>\n",
       "  </thead>\n",
       "  <tbody>\n",
       "  </tbody>\n",
       "</table>\n",
       "</div>"
      ],
      "text/plain": [
       "Empty DataFrame\n",
       "Columns: [carat, cut, color, clarity, depth, table, price, x, y, z]\n",
       "Index: []"
      ]
     },
     "execution_count": 9,
     "metadata": {},
     "output_type": "execute_result"
    }
   ],
   "source": [
    "diamonds_test[diamonds_test['table'] == 0]"
   ]
  },
  {
   "cell_type": "code",
   "execution_count": 10,
   "id": "f2a3698c",
   "metadata": {
    "ExecuteTime": {
     "end_time": "2022-09-16T16:36:42.075834Z",
     "start_time": "2022-09-16T16:36:42.060870Z"
    },
    "hidden": true
   },
   "outputs": [
    {
     "data": {
      "text/plain": [
       "array(['SI1', 'VS1', 'VS2', 'SI2', 'VVS2', 'VVS1', 'I1', 'IF'],\n",
       "      dtype=object)"
      ]
     },
     "execution_count": 10,
     "metadata": {},
     "output_type": "execute_result"
    }
   ],
   "source": [
    "diamonds_test['clarity'].unique()"
   ]
  },
  {
   "cell_type": "code",
   "execution_count": 11,
   "id": "504338fc",
   "metadata": {
    "ExecuteTime": {
     "end_time": "2022-09-16T16:36:42.091759Z",
     "start_time": "2022-09-16T16:36:42.076829Z"
    },
    "hidden": true
   },
   "outputs": [
    {
     "data": {
      "text/plain": [
       "array(['E', 'I', 'J', 'H', 'F', 'G', 'D'], dtype=object)"
      ]
     },
     "execution_count": 11,
     "metadata": {},
     "output_type": "execute_result"
    }
   ],
   "source": [
    "diamonds_test['color'].unique()"
   ]
  },
  {
   "cell_type": "code",
   "execution_count": 12,
   "id": "6837910f",
   "metadata": {
    "ExecuteTime": {
     "end_time": "2022-09-16T16:36:42.107746Z",
     "start_time": "2022-09-16T16:36:42.093755Z"
    },
    "hidden": true
   },
   "outputs": [
    {
     "data": {
      "text/plain": [
       "array(['Premium', 'Good', 'Very Good', 'Ideal', 'Fair'], dtype=object)"
      ]
     },
     "execution_count": 12,
     "metadata": {},
     "output_type": "execute_result"
    }
   ],
   "source": [
    "diamonds_test['cut'].unique()"
   ]
  },
  {
   "cell_type": "markdown",
   "id": "8a8eb325",
   "metadata": {
    "heading_collapsed": true
   },
   "source": [
    "# Exploratory Analysis"
   ]
  },
  {
   "cell_type": "code",
   "execution_count": 13,
   "id": "99e71210",
   "metadata": {
    "ExecuteTime": {
     "end_time": "2022-09-16T16:36:42.123699Z",
     "start_time": "2022-09-16T16:36:42.108716Z"
    },
    "hidden": true
   },
   "outputs": [
    {
     "data": {
      "text/plain": [
       "carat    0.922207\n",
       "depth   -0.012077\n",
       "table    0.127854\n",
       "price    1.000000\n",
       "x        0.887904\n",
       "y        0.866568\n",
       "z        0.112812\n",
       "Name: price, dtype: float64"
      ]
     },
     "execution_count": 13,
     "metadata": {},
     "output_type": "execute_result"
    }
   ],
   "source": [
    "# identificando as correlações\n",
    "diamonds_test.corr()['price']\n",
    "#outras explorações foram feitas no tableau"
   ]
  },
  {
   "cell_type": "markdown",
   "id": "9ff14a87",
   "metadata": {},
   "source": [
    "# Data transformation"
   ]
  },
  {
   "cell_type": "code",
   "execution_count": null,
   "id": "1abf4962",
   "metadata": {
    "ExecuteTime": {
     "end_time": "2022-09-16T13:39:10.456582Z",
     "start_time": "2022-09-16T13:39:10.430652Z"
    }
   },
   "outputs": [],
   "source": []
  },
  {
   "cell_type": "markdown",
   "id": "a2700613",
   "metadata": {},
   "source": [
    "# Modeling"
   ]
  },
  {
   "cell_type": "code",
   "execution_count": 14,
   "id": "0b8a88fb",
   "metadata": {
    "ExecuteTime": {
     "end_time": "2022-09-16T16:36:42.139659Z",
     "start_time": "2022-09-16T16:36:42.124698Z"
    }
   },
   "outputs": [],
   "source": [
    "#Criando a Coluna price_predicted no dataframe\n",
    "diamonds_rick['price_predicted'] = 0 "
   ]
  },
  {
   "cell_type": "code",
   "execution_count": 15,
   "id": "a32679e1",
   "metadata": {
    "ExecuteTime": {
     "end_time": "2022-09-16T16:36:42.171672Z",
     "start_time": "2022-09-16T16:36:42.140641Z"
    }
   },
   "outputs": [],
   "source": [
    "# Maks para as cores \n",
    "mask_teste_color1 = (diamonds_test['color'] == 'H') |(diamonds_test['color'] == 'J') |(diamonds_test['color'] == 'I')\n",
    "mask_teste_color2 = (diamonds_test['color'] == 'D') |(diamonds_test['color'] == 'E') | (diamonds_test['color'] == 'F') | (diamonds_test['color'] == 'G')\n",
    "mask_rick_color1 = (diamonds_rick['color'] == 'H') |(diamonds_rick['color'] == 'J') |(diamonds_rick['color'] == 'I')\n",
    "mask_rick_color2 = (diamonds_rick['color'] == 'D') |(diamonds_rick['color'] == 'E') | (diamonds_rick['color'] == 'F') | (diamonds_rick['color'] == 'G')"
   ]
  },
  {
   "cell_type": "code",
   "execution_count": 17,
   "id": "783eda15",
   "metadata": {
    "ExecuteTime": {
     "end_time": "2022-09-16T16:37:51.034586Z",
     "start_time": "2022-09-16T16:37:50.986741Z"
    }
   },
   "outputs": [],
   "source": [
    "#criando modelo para Clarity = VVS1, VVS2, IF e Color = H, J, I; aplicando no diamonds_rick\n",
    "mask_teste = (diamonds_test['clarity'] == 'VVS1') |(diamonds_test['clarity'] == 'VVS2') | (diamonds_test['clarity'] == 'IF')\n",
    "mask_rick = (diamonds_rick['clarity'] == 'VVS1') |(diamonds_rick['clarity'] == 'VVS2') | (diamonds_rick['clarity'] == 'IF')\n",
    "\n",
    "diamonds_rick.loc[mask_rick & mask_rick_color1, 'price_predicted'] = cria_modelos(diamonds_test[mask_teste & mask_teste_color1],diamonds_rick[mask_rick & mask_rick_color1],['carat'],'price')"
   ]
  },
  {
   "cell_type": "code",
   "execution_count": 18,
   "id": "8d7600c3",
   "metadata": {
    "ExecuteTime": {
     "end_time": "2022-09-16T16:37:53.561989Z",
     "start_time": "2022-09-16T16:37:53.531073Z"
    }
   },
   "outputs": [],
   "source": [
    "#criando modelo para Clarity = VVS1, VVS2, IF e Color = H, J, I; aplicando no diamonds_rick\n",
    "mask_teste = (diamonds_test['clarity'] == 'VVS1') |(diamonds_test['clarity'] == 'VVS2') | (diamonds_test['clarity'] == 'IF')\n",
    "mask_rick = (diamonds_rick['clarity'] == 'VVS1') |(diamonds_rick['clarity'] == 'VVS2') | (diamonds_rick['clarity'] == 'IF')\n",
    "\n",
    "diamonds_rick.loc[mask_rick & mask_rick_color2, 'price_predicted'] = cria_modelos(diamonds_test[mask_teste & mask_teste_color2],diamonds_rick[mask_rick & mask_rick_color2],['carat'],'price')"
   ]
  },
  {
   "cell_type": "code",
   "execution_count": 19,
   "id": "1b0bb49a",
   "metadata": {
    "ExecuteTime": {
     "end_time": "2022-09-16T16:37:55.944330Z",
     "start_time": "2022-09-16T16:37:55.913414Z"
    }
   },
   "outputs": [],
   "source": [
    "#criando modelo para Clarity = VS1, VS2 e Color = H, J, I; aplicando no diamonds_rick\n",
    "mask_teste = (diamonds_test['clarity'] == 'VS1') |(diamonds_test['clarity'] == 'VS2')\n",
    "mask_rick = (diamonds_rick['clarity'] == 'VS1') |(diamonds_rick['clarity'] == 'VS2')\n",
    "\n",
    "diamonds_rick.loc[mask_rick & mask_rick_color1, 'price_predicted'] = cria_modelos(diamonds_test[mask_teste & mask_teste_color1],diamonds_rick[mask_rick & mask_rick_color1],['carat'],'price')"
   ]
  },
  {
   "cell_type": "code",
   "execution_count": 20,
   "id": "7b64fae4",
   "metadata": {
    "ExecuteTime": {
     "end_time": "2022-09-16T16:37:58.151278Z",
     "start_time": "2022-09-16T16:37:58.126346Z"
    }
   },
   "outputs": [],
   "source": [
    "#criando modelo para Clarity = VS1, VS2 e Color = D, E, F, G; aplicando no diamonds_rick\n",
    "mask_teste = (diamonds_test['clarity'] == 'VS1') |(diamonds_test['clarity'] == 'VS2')\n",
    "mask_rick = (diamonds_rick['clarity'] == 'VS1') |(diamonds_rick['clarity'] == 'VS2')\n",
    "\n",
    "diamonds_rick.loc[mask_rick & mask_rick_color2, 'price_predicted'] = cria_modelos(diamonds_test[mask_teste & mask_teste_color2],diamonds_rick[mask_rick & mask_rick_color2],['carat'],'price')"
   ]
  },
  {
   "cell_type": "code",
   "execution_count": 21,
   "id": "aa796822",
   "metadata": {
    "ExecuteTime": {
     "end_time": "2022-09-16T16:37:58.975524Z",
     "start_time": "2022-09-16T16:37:58.958570Z"
    }
   },
   "outputs": [],
   "source": [
    "#criando modelo para Clarity = SI1 e SI2 e Color = H, J, I; aplicando no diamonds_rick\n",
    "mask_teste = (diamonds_test['clarity'] == 'SI1') |(diamonds_test['clarity'] == 'SI2')\n",
    "mask_rick = (diamonds_rick['clarity'] == 'SI1') |(diamonds_rick['clarity'] == 'SI2')\n",
    "\n",
    "diamonds_rick.loc[mask_rick & mask_rick_color1, 'price_predicted'] = cria_modelos(diamonds_test[mask_teste & mask_teste_color1],diamonds_rick[mask_rick & mask_rick_color1],['carat'],'price')"
   ]
  },
  {
   "cell_type": "code",
   "execution_count": 22,
   "id": "be4779d6",
   "metadata": {
    "ExecuteTime": {
     "end_time": "2022-09-16T16:37:59.568929Z",
     "start_time": "2022-09-16T16:37:59.538370Z"
    }
   },
   "outputs": [],
   "source": [
    "#criando modelo para Clarity = SI1 e SI2 e Color = D, E, F, G; aplicando no diamonds_rick\n",
    "mask_teste = (diamonds_test['clarity'] == 'SI1') |(diamonds_test['clarity'] == 'SI2')\n",
    "mask_rick = (diamonds_rick['clarity'] == 'SI1') |(diamonds_rick['clarity'] == 'SI2')\n",
    "\n",
    "diamonds_rick.loc[mask_rick & mask_rick_color2, 'price_predicted'] = cria_modelos(diamonds_test[mask_teste & mask_teste_color2],diamonds_rick[mask_rick & mask_rick_color2],['carat'],'price')"
   ]
  },
  {
   "cell_type": "code",
   "execution_count": 23,
   "id": "9f86d7ec",
   "metadata": {
    "ExecuteTime": {
     "end_time": "2022-09-16T16:38:00.258192Z",
     "start_time": "2022-09-16T16:38:00.243233Z"
    }
   },
   "outputs": [],
   "source": [
    "#criando modelo para Clarity = I1, aplicando no diamonds_rick\n",
    "mask_teste = (diamonds_test['clarity'] == 'I1')\n",
    "mask_rick = (diamonds_rick['clarity'] == 'I1')\n",
    "\n",
    "diamonds_rick.loc[mask_rick, 'price_predicted'] = cria_modelos(diamonds_test[mask_teste],diamonds_rick[mask_rick],['carat'],'price')"
   ]
  },
  {
   "cell_type": "markdown",
   "id": "b2d6863b",
   "metadata": {},
   "source": [
    "# To CSV"
   ]
  },
  {
   "cell_type": "code",
   "execution_count": 24,
   "id": "a20fe923",
   "metadata": {
    "ExecuteTime": {
     "end_time": "2022-09-16T16:38:01.239587Z",
     "start_time": "2022-09-16T16:38:01.177755Z"
    }
   },
   "outputs": [
    {
     "data": {
      "text/html": [
       "<div>\n",
       "<style scoped>\n",
       "    .dataframe tbody tr th:only-of-type {\n",
       "        vertical-align: middle;\n",
       "    }\n",
       "\n",
       "    .dataframe tbody tr th {\n",
       "        vertical-align: top;\n",
       "    }\n",
       "\n",
       "    .dataframe thead th {\n",
       "        text-align: right;\n",
       "    }\n",
       "</style>\n",
       "<table border=\"1\" class=\"dataframe\">\n",
       "  <thead>\n",
       "    <tr style=\"text-align: right;\">\n",
       "      <th></th>\n",
       "      <th>carat</th>\n",
       "      <th>cut</th>\n",
       "      <th>color</th>\n",
       "      <th>clarity</th>\n",
       "      <th>depth</th>\n",
       "      <th>table</th>\n",
       "      <th>x</th>\n",
       "      <th>y</th>\n",
       "      <th>z</th>\n",
       "      <th>price_predicted</th>\n",
       "    </tr>\n",
       "  </thead>\n",
       "  <tbody>\n",
       "    <tr>\n",
       "      <th>0</th>\n",
       "      <td>0.91</td>\n",
       "      <td>Very Good</td>\n",
       "      <td>H</td>\n",
       "      <td>SI2</td>\n",
       "      <td>63.4</td>\n",
       "      <td>57.0</td>\n",
       "      <td>6.10</td>\n",
       "      <td>6.18</td>\n",
       "      <td>3.89</td>\n",
       "      <td>3733.189456</td>\n",
       "    </tr>\n",
       "    <tr>\n",
       "      <th>1</th>\n",
       "      <td>0.38</td>\n",
       "      <td>Good</td>\n",
       "      <td>F</td>\n",
       "      <td>VS2</td>\n",
       "      <td>60.3</td>\n",
       "      <td>61.0</td>\n",
       "      <td>4.68</td>\n",
       "      <td>4.71</td>\n",
       "      <td>2.83</td>\n",
       "      <td>644.991299</td>\n",
       "    </tr>\n",
       "    <tr>\n",
       "      <th>2</th>\n",
       "      <td>0.52</td>\n",
       "      <td>Ideal</td>\n",
       "      <td>H</td>\n",
       "      <td>VS2</td>\n",
       "      <td>61.8</td>\n",
       "      <td>56.0</td>\n",
       "      <td>5.19</td>\n",
       "      <td>5.16</td>\n",
       "      <td>3.20</td>\n",
       "      <td>1350.893787</td>\n",
       "    </tr>\n",
       "    <tr>\n",
       "      <th>3</th>\n",
       "      <td>1.10</td>\n",
       "      <td>Ideal</td>\n",
       "      <td>G</td>\n",
       "      <td>VS1</td>\n",
       "      <td>61.3</td>\n",
       "      <td>56.0</td>\n",
       "      <td>6.65</td>\n",
       "      <td>6.69</td>\n",
       "      <td>4.09</td>\n",
       "      <td>7829.466065</td>\n",
       "    </tr>\n",
       "    <tr>\n",
       "      <th>4</th>\n",
       "      <td>2.28</td>\n",
       "      <td>Ideal</td>\n",
       "      <td>G</td>\n",
       "      <td>SI2</td>\n",
       "      <td>61.6</td>\n",
       "      <td>57.0</td>\n",
       "      <td>8.44</td>\n",
       "      <td>8.37</td>\n",
       "      <td>5.18</td>\n",
       "      <td>15528.487120</td>\n",
       "    </tr>\n",
       "    <tr>\n",
       "      <th>...</th>\n",
       "      <td>...</td>\n",
       "      <td>...</td>\n",
       "      <td>...</td>\n",
       "      <td>...</td>\n",
       "      <td>...</td>\n",
       "      <td>...</td>\n",
       "      <td>...</td>\n",
       "      <td>...</td>\n",
       "      <td>...</td>\n",
       "      <td>...</td>\n",
       "    </tr>\n",
       "    <tr>\n",
       "      <th>4995</th>\n",
       "      <td>0.30</td>\n",
       "      <td>Very Good</td>\n",
       "      <td>D</td>\n",
       "      <td>SI2</td>\n",
       "      <td>62.2</td>\n",
       "      <td>59.0</td>\n",
       "      <td>4.25</td>\n",
       "      <td>4.30</td>\n",
       "      <td>2.66</td>\n",
       "      <td>-555.157271</td>\n",
       "    </tr>\n",
       "    <tr>\n",
       "      <th>4996</th>\n",
       "      <td>0.51</td>\n",
       "      <td>Ideal</td>\n",
       "      <td>F</td>\n",
       "      <td>VVS2</td>\n",
       "      <td>61.9</td>\n",
       "      <td>56.0</td>\n",
       "      <td>5.09</td>\n",
       "      <td>5.14</td>\n",
       "      <td>3.16</td>\n",
       "      <td>2789.405383</td>\n",
       "    </tr>\n",
       "    <tr>\n",
       "      <th>4997</th>\n",
       "      <td>1.01</td>\n",
       "      <td>Very Good</td>\n",
       "      <td>F</td>\n",
       "      <td>SI1</td>\n",
       "      <td>60.6</td>\n",
       "      <td>60.0</td>\n",
       "      <td>6.37</td>\n",
       "      <td>6.43</td>\n",
       "      <td>3.88</td>\n",
       "      <td>5212.210162</td>\n",
       "    </tr>\n",
       "    <tr>\n",
       "      <th>4998</th>\n",
       "      <td>0.31</td>\n",
       "      <td>Ideal</td>\n",
       "      <td>F</td>\n",
       "      <td>VVS1</td>\n",
       "      <td>62.1</td>\n",
       "      <td>56.0</td>\n",
       "      <td>4.35</td>\n",
       "      <td>4.38</td>\n",
       "      <td>2.71</td>\n",
       "      <td>465.465868</td>\n",
       "    </tr>\n",
       "    <tr>\n",
       "      <th>4999</th>\n",
       "      <td>0.33</td>\n",
       "      <td>Ideal</td>\n",
       "      <td>E</td>\n",
       "      <td>VS2</td>\n",
       "      <td>61.8</td>\n",
       "      <td>55.0</td>\n",
       "      <td>4.45</td>\n",
       "      <td>4.48</td>\n",
       "      <td>2.76</td>\n",
       "      <td>146.069440</td>\n",
       "    </tr>\n",
       "  </tbody>\n",
       "</table>\n",
       "<p>5000 rows × 10 columns</p>\n",
       "</div>"
      ],
      "text/plain": [
       "      carat        cut color clarity  depth  table     x     y     z  \\\n",
       "0      0.91  Very Good     H     SI2   63.4   57.0  6.10  6.18  3.89   \n",
       "1      0.38       Good     F     VS2   60.3   61.0  4.68  4.71  2.83   \n",
       "2      0.52      Ideal     H     VS2   61.8   56.0  5.19  5.16  3.20   \n",
       "3      1.10      Ideal     G     VS1   61.3   56.0  6.65  6.69  4.09   \n",
       "4      2.28      Ideal     G     SI2   61.6   57.0  8.44  8.37  5.18   \n",
       "...     ...        ...   ...     ...    ...    ...   ...   ...   ...   \n",
       "4995   0.30  Very Good     D     SI2   62.2   59.0  4.25  4.30  2.66   \n",
       "4996   0.51      Ideal     F    VVS2   61.9   56.0  5.09  5.14  3.16   \n",
       "4997   1.01  Very Good     F     SI1   60.6   60.0  6.37  6.43  3.88   \n",
       "4998   0.31      Ideal     F    VVS1   62.1   56.0  4.35  4.38  2.71   \n",
       "4999   0.33      Ideal     E     VS2   61.8   55.0  4.45  4.48  2.76   \n",
       "\n",
       "      price_predicted  \n",
       "0         3733.189456  \n",
       "1          644.991299  \n",
       "2         1350.893787  \n",
       "3         7829.466065  \n",
       "4        15528.487120  \n",
       "...               ...  \n",
       "4995      -555.157271  \n",
       "4996      2789.405383  \n",
       "4997      5212.210162  \n",
       "4998       465.465868  \n",
       "4999       146.069440  \n",
       "\n",
       "[5000 rows x 10 columns]"
      ]
     },
     "execution_count": 24,
     "metadata": {},
     "output_type": "execute_result"
    }
   ],
   "source": [
    "diamonds_rick.to_csv('testes_price/price_pred', index=False)\n",
    "diamonds_rick"
   ]
  },
  {
   "cell_type": "markdown",
   "id": "eb5083c3",
   "metadata": {},
   "source": [
    "# Results\n"
   ]
  },
  {
   "cell_type": "code",
   "execution_count": 25,
   "id": "2997f706",
   "metadata": {
    "ExecuteTime": {
     "end_time": "2022-09-16T16:38:04.297397Z",
     "start_time": "2022-09-16T16:38:04.292443Z"
    }
   },
   "outputs": [],
   "source": [
    "# erro usando a média foi 3980.71\n",
    "# erro usando a mediana foi 4255.53\n",
    "# erro usando a primeira modelagem foi 1605.15\n",
    "# erro após a limpeza dos dados foi  1605.13\n",
    "# erro usando segundo modelo foi 1578.53\n",
    "# erro usando mais modelos foi 1254.41\n",
    "# erro usando modelos com Clarity e Color foi 1113.51"
   ]
  }
 ],
 "metadata": {
  "kernelspec": {
   "display_name": "Python 3 (ipykernel)",
   "language": "python",
   "name": "python3"
  },
  "language_info": {
   "codemirror_mode": {
    "name": "ipython",
    "version": 3
   },
   "file_extension": ".py",
   "mimetype": "text/x-python",
   "name": "python",
   "nbconvert_exporter": "python",
   "pygments_lexer": "ipython3",
   "version": "3.9.12"
  },
  "toc": {
   "base_numbering": 1,
   "nav_menu": {},
   "number_sections": true,
   "sideBar": true,
   "skip_h1_title": false,
   "title_cell": "Table of Contents",
   "title_sidebar": "Contents",
   "toc_cell": false,
   "toc_position": {},
   "toc_section_display": true,
   "toc_window_display": false
  },
  "varInspector": {
   "cols": {
    "lenName": 16,
    "lenType": 16,
    "lenVar": 40
   },
   "kernels_config": {
    "python": {
     "delete_cmd_postfix": "",
     "delete_cmd_prefix": "del ",
     "library": "var_list.py",
     "varRefreshCmd": "print(var_dic_list())"
    },
    "r": {
     "delete_cmd_postfix": ") ",
     "delete_cmd_prefix": "rm(",
     "library": "var_list.r",
     "varRefreshCmd": "cat(var_dic_list()) "
    }
   },
   "types_to_exclude": [
    "module",
    "function",
    "builtin_function_or_method",
    "instance",
    "_Feature"
   ],
   "window_display": false
  }
 },
 "nbformat": 4,
 "nbformat_minor": 5
}
